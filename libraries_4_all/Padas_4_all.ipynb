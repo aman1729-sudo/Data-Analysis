{
 "cells": [
  {
   "cell_type": "markdown",
   "metadata": {},
   "source": [
    "Series"
   ]
  },
  {
   "cell_type": "code",
   "execution_count": 1,
   "metadata": {},
   "outputs": [],
   "source": [
    "import pandas as pd\n",
    "import numpy as np\n",
    "list_1 = [\"a\",\"b\",\"c\",\"d\"]\n",
    "labels = [1,2,3,4]\n",
    "ser_1 = pd.Series(data = list_1,index = labels)"
   ]
  },
  {
   "cell_type": "code",
   "execution_count": 2,
   "metadata": {},
   "outputs": [
    {
     "data": {
      "text/plain": [
       "1    a\n",
       "2    b\n",
       "3    c\n",
       "4    d\n",
       "dtype: object"
      ]
     },
     "execution_count": 2,
     "metadata": {},
     "output_type": "execute_result"
    }
   ],
   "source": [
    "ser_1"
   ]
  },
  {
   "cell_type": "code",
   "execution_count": 3,
   "metadata": {},
   "outputs": [
    {
     "data": {
      "text/plain": [
       "0    0\n",
       "1    1\n",
       "2    2\n",
       "3    3\n",
       "4    4\n",
       "dtype: int32"
      ]
     },
     "execution_count": 3,
     "metadata": {},
     "output_type": "execute_result"
    }
   ],
   "source": [
    "arr_1 = np.arange(0,5)\n",
    "ser_2 = pd.Series(arr_1)\n",
    "ser_2"
   ]
  },
  {
   "cell_type": "code",
   "execution_count": 4,
   "metadata": {},
   "outputs": [
    {
     "data": {
      "text/plain": [
       "f_name    Amandeep\n",
       "l_name      python\n",
       "Age             20\n",
       "dtype: object"
      ]
     },
     "execution_count": 4,
     "metadata": {},
     "output_type": "execute_result"
    }
   ],
   "source": [
    "dict = {\"f_name\" : \"Amandeep\",\"l_name\" :\"python\",\"Age\":\"20\"}\n",
    "ser_3 = pd.Series(dict)\n",
    "ser_3"
   ]
  },
  {
   "cell_type": "code",
   "execution_count": 5,
   "metadata": {},
   "outputs": [
    {
     "data": {
      "text/plain": [
       "'Amandeep'"
      ]
     },
     "execution_count": 5,
     "metadata": {},
     "output_type": "execute_result"
    }
   ],
   "source": [
    "ser_3[\"f_name\"]"
   ]
  },
  {
   "cell_type": "code",
   "execution_count": 6,
   "metadata": {},
   "outputs": [
    {
     "data": {
      "text/plain": [
       "dtype('O')"
      ]
     },
     "execution_count": 6,
     "metadata": {},
     "output_type": "execute_result"
    }
   ],
   "source": [
    "ser_3.dtype"
   ]
  },
  {
   "cell_type": "code",
   "execution_count": 7,
   "metadata": {},
   "outputs": [
    {
     "data": {
      "text/plain": [
       "0     1.000000\n",
       "1     2.718282\n",
       "2     7.389056\n",
       "3    20.085537\n",
       "4    54.598150\n",
       "dtype: float64"
      ]
     },
     "execution_count": 7,
     "metadata": {},
     "output_type": "execute_result"
    }
   ],
   "source": [
    "ser_1 + ser_3\n",
    "ser_1 * ser_3\n",
    "np.exp(ser_2)"
   ]
  },
  {
   "cell_type": "code",
   "execution_count": 8,
   "metadata": {},
   "outputs": [
    {
     "data": {
      "text/plain": [
       "0   NaN\n",
       "1   NaN\n",
       "2   NaN\n",
       "3   NaN\n",
       "4   NaN\n",
       "5   NaN\n",
       "6   NaN\n",
       "7   NaN\n",
       "dtype: float64"
      ]
     },
     "execution_count": 8,
     "metadata": {},
     "output_type": "execute_result"
    }
   ],
   "source": [
    "ser_4 = pd.Series({6:5,5:6,6:7,7:8},name = \"random numbers\")\n",
    "ser_4 + ser_2 #cant add or any other operation because of different indices"
   ]
  },
  {
   "cell_type": "markdown",
   "metadata": {},
   "source": [
    "Data Frames"
   ]
  },
  {
   "cell_type": "code",
   "execution_count": 9,
   "metadata": {},
   "outputs": [
    {
     "data": {
      "text/html": [
       "<div>\n",
       "<style scoped>\n",
       "    .dataframe tbody tr th:only-of-type {\n",
       "        vertical-align: middle;\n",
       "    }\n",
       "\n",
       "    .dataframe tbody tr th {\n",
       "        vertical-align: top;\n",
       "    }\n",
       "\n",
       "    .dataframe thead th {\n",
       "        text-align: right;\n",
       "    }\n",
       "</style>\n",
       "<table border=\"1\" class=\"dataframe\">\n",
       "  <thead>\n",
       "    <tr style=\"text-align: right;\">\n",
       "      <th></th>\n",
       "      <th>c</th>\n",
       "      <th>d</th>\n",
       "      <th>e</th>\n",
       "    </tr>\n",
       "  </thead>\n",
       "  <tbody>\n",
       "    <tr>\n",
       "      <th>a</th>\n",
       "      <td>46</td>\n",
       "      <td>47</td>\n",
       "      <td>21</td>\n",
       "    </tr>\n",
       "    <tr>\n",
       "      <th>b</th>\n",
       "      <td>15</td>\n",
       "      <td>48</td>\n",
       "      <td>20</td>\n",
       "    </tr>\n",
       "  </tbody>\n",
       "</table>\n",
       "</div>"
      ],
      "text/plain": [
       "    c   d   e\n",
       "a  46  47  21\n",
       "b  15  48  20"
      ]
     },
     "execution_count": 9,
     "metadata": {},
     "output_type": "execute_result"
    }
   ],
   "source": [
    "#data frames are 2d data sets and series are 1d data sets\n",
    "arr_2 = np.random.randint(10,50,size = (2,3))\n",
    "df_1 = pd.DataFrame(arr_2,[\"a\",\"b\"],[\"c\",\"d\",\"e\"])\n",
    "df_1"
   ]
  },
  {
   "cell_type": "code",
   "execution_count": 10,
   "metadata": {},
   "outputs": [
    {
     "data": {
      "text/plain": [
       "(4, 2)"
      ]
     },
     "execution_count": 10,
     "metadata": {},
     "output_type": "execute_result"
    }
   ],
   "source": [
    "dict_3 = {'one':pd.Series([1,2,3],index=[\"a\",\"b\",\"c\"]),\n",
    "          'two':pd.Series([4,5,6,7],index = [\"a\",\"b\",\"c\",\"d\"])}\n",
    "df_2 = pd.DataFrame(dict_3)\n",
    "df_2\n",
    "df_2.shape"
   ]
  },
  {
   "cell_type": "markdown",
   "metadata": {},
   "source": [
    "Editing and Retrivig Data"
   ]
  },
  {
   "cell_type": "code",
   "execution_count": 11,
   "metadata": {},
   "outputs": [
    {
     "name": "stdout",
     "output_type": "stream",
     "text": [
      "    c   d   e\n",
      "a  46  47  21\n",
      "b  15  48  20\n"
     ]
    }
   ],
   "source": [
    "print(df_1)\n",
    "df_1[\"c\"] #get single columns\n",
    "df_1[[\"c\",\"d\"]] #get 2 columns\n",
    "df_1.loc[\"a\"] #loc gives specified rows\n",
    "df_1.iloc[1] #iloc gives rows with indexes\n",
    "df_1.loc[\"a\",\"c\"] # acessing specific col of a row\n",
    "df_1.loc[[\"a\",\"b\"],[\"c\",\"d\"]]\n",
    "df_1[\"Total\"] = df_1[\"c\"] + df_1[\"d\"] #adding more columns\n",
    "df_2[\"mult\"] = df_2[\"one\"] * df_2[\"two\"]"
   ]
  },
  {
   "cell_type": "code",
   "execution_count": 12,
   "metadata": {},
   "outputs": [
    {
     "data": {
      "text/html": [
       "<div>\n",
       "<style scoped>\n",
       "    .dataframe tbody tr th:only-of-type {\n",
       "        vertical-align: middle;\n",
       "    }\n",
       "\n",
       "    .dataframe tbody tr th {\n",
       "        vertical-align: top;\n",
       "    }\n",
       "\n",
       "    .dataframe thead th {\n",
       "        text-align: right;\n",
       "    }\n",
       "</style>\n",
       "<table border=\"1\" class=\"dataframe\">\n",
       "  <thead>\n",
       "    <tr style=\"text-align: right;\">\n",
       "      <th></th>\n",
       "      <th>c</th>\n",
       "      <th>d</th>\n",
       "      <th>e</th>\n",
       "      <th>Total</th>\n",
       "    </tr>\n",
       "  </thead>\n",
       "  <tbody>\n",
       "    <tr>\n",
       "      <th>a</th>\n",
       "      <td>46.0</td>\n",
       "      <td>47.0</td>\n",
       "      <td>21.0</td>\n",
       "      <td>93.0</td>\n",
       "    </tr>\n",
       "    <tr>\n",
       "      <th>b</th>\n",
       "      <td>15.0</td>\n",
       "      <td>48.0</td>\n",
       "      <td>20.0</td>\n",
       "      <td>63.0</td>\n",
       "    </tr>\n",
       "    <tr>\n",
       "      <th>F</th>\n",
       "      <td>44.0</td>\n",
       "      <td>45.0</td>\n",
       "      <td>46.0</td>\n",
       "      <td>NaN</td>\n",
       "    </tr>\n",
       "  </tbody>\n",
       "</table>\n",
       "</div>"
      ],
      "text/plain": [
       "      c     d     e  Total\n",
       "a  46.0  47.0  21.0   93.0\n",
       "b  15.0  48.0  20.0   63.0\n",
       "F  44.0  45.0  46.0    NaN"
      ]
     },
     "execution_count": 12,
     "metadata": {},
     "output_type": "execute_result"
    }
   ],
   "source": [
    "dict_5 = {'c':44,\"d\":45,\"e\":46}\n",
    "new_row = pd.Series(dict_5,name = \"F\")\n",
    "df_1 = df_1.append(new_row)\n",
    "df_1"
   ]
  },
  {
   "cell_type": "code",
   "execution_count": 13,
   "metadata": {},
   "outputs": [
    {
     "data": {
      "text/html": [
       "<div>\n",
       "<style scoped>\n",
       "    .dataframe tbody tr th:only-of-type {\n",
       "        vertical-align: middle;\n",
       "    }\n",
       "\n",
       "    .dataframe tbody tr th {\n",
       "        vertical-align: top;\n",
       "    }\n",
       "\n",
       "    .dataframe thead th {\n",
       "        text-align: right;\n",
       "    }\n",
       "</style>\n",
       "<table border=\"1\" class=\"dataframe\">\n",
       "  <thead>\n",
       "    <tr style=\"text-align: right;\">\n",
       "      <th></th>\n",
       "      <th>c</th>\n",
       "      <th>d</th>\n",
       "      <th>e</th>\n",
       "    </tr>\n",
       "  </thead>\n",
       "  <tbody>\n",
       "    <tr>\n",
       "      <th>a</th>\n",
       "      <td>46.0</td>\n",
       "      <td>47.0</td>\n",
       "      <td>21.0</td>\n",
       "    </tr>\n",
       "    <tr>\n",
       "      <th>b</th>\n",
       "      <td>15.0</td>\n",
       "      <td>48.0</td>\n",
       "      <td>20.0</td>\n",
       "    </tr>\n",
       "    <tr>\n",
       "      <th>F</th>\n",
       "      <td>44.0</td>\n",
       "      <td>45.0</td>\n",
       "      <td>46.0</td>\n",
       "    </tr>\n",
       "  </tbody>\n",
       "</table>\n",
       "</div>"
      ],
      "text/plain": [
       "      c     d     e\n",
       "a  46.0  47.0  21.0\n",
       "b  15.0  48.0  20.0\n",
       "F  44.0  45.0  46.0"
      ]
     },
     "execution_count": 13,
     "metadata": {},
     "output_type": "execute_result"
    }
   ],
   "source": [
    "df_1.drop('Total',axis = 1,inplace = True) #deleting columns\n",
    "df_1"
   ]
  },
  {
   "cell_type": "code",
   "execution_count": 14,
   "metadata": {},
   "outputs": [
    {
     "data": {
      "text/html": [
       "<div>\n",
       "<style scoped>\n",
       "    .dataframe tbody tr th:only-of-type {\n",
       "        vertical-align: middle;\n",
       "    }\n",
       "\n",
       "    .dataframe tbody tr th {\n",
       "        vertical-align: top;\n",
       "    }\n",
       "\n",
       "    .dataframe thead th {\n",
       "        text-align: right;\n",
       "    }\n",
       "</style>\n",
       "<table border=\"1\" class=\"dataframe\">\n",
       "  <thead>\n",
       "    <tr style=\"text-align: right;\">\n",
       "      <th></th>\n",
       "      <th>c</th>\n",
       "      <th>d</th>\n",
       "      <th>e</th>\n",
       "    </tr>\n",
       "  </thead>\n",
       "  <tbody>\n",
       "    <tr>\n",
       "      <th>a</th>\n",
       "      <td>46.0</td>\n",
       "      <td>47.0</td>\n",
       "      <td>21.0</td>\n",
       "    </tr>\n",
       "    <tr>\n",
       "      <th>F</th>\n",
       "      <td>44.0</td>\n",
       "      <td>45.0</td>\n",
       "      <td>46.0</td>\n",
       "    </tr>\n",
       "  </tbody>\n",
       "</table>\n",
       "</div>"
      ],
      "text/plain": [
       "      c     d     e\n",
       "a  46.0  47.0  21.0\n",
       "F  44.0  45.0  46.0"
      ]
     },
     "execution_count": 14,
     "metadata": {},
     "output_type": "execute_result"
    }
   ],
   "source": [
    "df_1.drop(\"b\",axis = 0,inplace = True) #deleting rows\n",
    "df_1"
   ]
  },
  {
   "cell_type": "code",
   "execution_count": 15,
   "metadata": {},
   "outputs": [
    {
     "data": {
      "text/html": [
       "<div>\n",
       "<style scoped>\n",
       "    .dataframe tbody tr th:only-of-type {\n",
       "        vertical-align: middle;\n",
       "    }\n",
       "\n",
       "    .dataframe tbody tr th {\n",
       "        vertical-align: top;\n",
       "    }\n",
       "\n",
       "    .dataframe thead th {\n",
       "        text-align: right;\n",
       "    }\n",
       "</style>\n",
       "<table border=\"1\" class=\"dataframe\">\n",
       "  <thead>\n",
       "    <tr style=\"text-align: right;\">\n",
       "      <th></th>\n",
       "      <th>c</th>\n",
       "      <th>d</th>\n",
       "      <th>e</th>\n",
       "    </tr>\n",
       "    <tr>\n",
       "      <th>Sex</th>\n",
       "      <th></th>\n",
       "      <th></th>\n",
       "      <th></th>\n",
       "    </tr>\n",
       "  </thead>\n",
       "  <tbody>\n",
       "    <tr>\n",
       "      <th>Men</th>\n",
       "      <td>46.0</td>\n",
       "      <td>47.0</td>\n",
       "      <td>21.0</td>\n",
       "    </tr>\n",
       "    <tr>\n",
       "      <th>Women</th>\n",
       "      <td>44.0</td>\n",
       "      <td>45.0</td>\n",
       "      <td>46.0</td>\n",
       "    </tr>\n",
       "  </tbody>\n",
       "</table>\n",
       "</div>"
      ],
      "text/plain": [
       "          c     d     e\n",
       "Sex                    \n",
       "Men    46.0  47.0  21.0\n",
       "Women  44.0  45.0  46.0"
      ]
     },
     "execution_count": 15,
     "metadata": {},
     "output_type": "execute_result"
    }
   ],
   "source": [
    "df_1[\"Sex\"] = [\"Men\",\"Women\"] #setting new indices\n",
    "df_1.set_index(\"Sex\",inplace = True)\n",
    "df_1"
   ]
  },
  {
   "cell_type": "code",
   "execution_count": 16,
   "metadata": {},
   "outputs": [
    {
     "data": {
      "text/html": [
       "<div>\n",
       "<style scoped>\n",
       "    .dataframe tbody tr th:only-of-type {\n",
       "        vertical-align: middle;\n",
       "    }\n",
       "\n",
       "    .dataframe tbody tr th {\n",
       "        vertical-align: top;\n",
       "    }\n",
       "\n",
       "    .dataframe thead th {\n",
       "        text-align: right;\n",
       "    }\n",
       "</style>\n",
       "<table border=\"1\" class=\"dataframe\">\n",
       "  <thead>\n",
       "    <tr style=\"text-align: right;\">\n",
       "      <th></th>\n",
       "      <th>Sex</th>\n",
       "      <th>c</th>\n",
       "      <th>d</th>\n",
       "      <th>e</th>\n",
       "    </tr>\n",
       "  </thead>\n",
       "  <tbody>\n",
       "    <tr>\n",
       "      <th>0</th>\n",
       "      <td>Men</td>\n",
       "      <td>46.0</td>\n",
       "      <td>47.0</td>\n",
       "      <td>21.0</td>\n",
       "    </tr>\n",
       "    <tr>\n",
       "      <th>1</th>\n",
       "      <td>Women</td>\n",
       "      <td>44.0</td>\n",
       "      <td>45.0</td>\n",
       "      <td>46.0</td>\n",
       "    </tr>\n",
       "  </tbody>\n",
       "</table>\n",
       "</div>"
      ],
      "text/plain": [
       "     Sex     c     d     e\n",
       "0    Men  46.0  47.0  21.0\n",
       "1  Women  44.0  45.0  46.0"
      ]
     },
     "execution_count": 16,
     "metadata": {},
     "output_type": "execute_result"
    }
   ],
   "source": [
    "df_1.reset_index(inplace = True) #resetting changed indices\n",
    "df_1"
   ]
  },
  {
   "cell_type": "code",
   "execution_count": 17,
   "metadata": {},
   "outputs": [
    {
     "data": {
      "text/html": [
       "<div>\n",
       "<style scoped>\n",
       "    .dataframe tbody tr th:only-of-type {\n",
       "        vertical-align: middle;\n",
       "    }\n",
       "\n",
       "    .dataframe tbody tr th {\n",
       "        vertical-align: top;\n",
       "    }\n",
       "\n",
       "    .dataframe thead th {\n",
       "        text-align: right;\n",
       "    }\n",
       "</style>\n",
       "<table border=\"1\" class=\"dataframe\">\n",
       "  <thead>\n",
       "    <tr style=\"text-align: right;\">\n",
       "      <th></th>\n",
       "      <th>one</th>\n",
       "      <th>two</th>\n",
       "      <th>mult</th>\n",
       "      <th>Assign</th>\n",
       "    </tr>\n",
       "  </thead>\n",
       "  <tbody>\n",
       "    <tr>\n",
       "      <th>a</th>\n",
       "      <td>1.0</td>\n",
       "      <td>4</td>\n",
       "      <td>4.0</td>\n",
       "      <td>0.25</td>\n",
       "    </tr>\n",
       "    <tr>\n",
       "      <th>b</th>\n",
       "      <td>2.0</td>\n",
       "      <td>5</td>\n",
       "      <td>10.0</td>\n",
       "      <td>0.40</td>\n",
       "    </tr>\n",
       "    <tr>\n",
       "      <th>c</th>\n",
       "      <td>3.0</td>\n",
       "      <td>6</td>\n",
       "      <td>18.0</td>\n",
       "      <td>0.50</td>\n",
       "    </tr>\n",
       "    <tr>\n",
       "      <th>d</th>\n",
       "      <td>NaN</td>\n",
       "      <td>7</td>\n",
       "      <td>NaN</td>\n",
       "      <td>NaN</td>\n",
       "    </tr>\n",
       "  </tbody>\n",
       "</table>\n",
       "</div>"
      ],
      "text/plain": [
       "   one  two  mult  Assign\n",
       "a  1.0    4   4.0    0.25\n",
       "b  2.0    5  10.0    0.40\n",
       "c  3.0    6  18.0    0.50\n",
       "d  NaN    7   NaN     NaN"
      ]
     },
     "execution_count": 17,
     "metadata": {},
     "output_type": "execute_result"
    }
   ],
   "source": [
    "df_2[\"Assign\"] = df_2[\"one\"] / df_2[\"two\"]\n",
    "df_2"
   ]
  },
  {
   "cell_type": "code",
   "execution_count": 18,
   "metadata": {},
   "outputs": [
    {
     "data": {
      "text/html": [
       "<div>\n",
       "<style scoped>\n",
       "    .dataframe tbody tr th:only-of-type {\n",
       "        vertical-align: middle;\n",
       "    }\n",
       "\n",
       "    .dataframe tbody tr th {\n",
       "        vertical-align: top;\n",
       "    }\n",
       "\n",
       "    .dataframe thead th {\n",
       "        text-align: right;\n",
       "    }\n",
       "</style>\n",
       "<table border=\"1\" class=\"dataframe\">\n",
       "  <thead>\n",
       "    <tr style=\"text-align: right;\">\n",
       "      <th></th>\n",
       "      <th>one</th>\n",
       "      <th>two</th>\n",
       "      <th>mult</th>\n",
       "      <th>Assign</th>\n",
       "    </tr>\n",
       "  </thead>\n",
       "  <tbody>\n",
       "    <tr>\n",
       "      <th>a</th>\n",
       "      <td>1.0</td>\n",
       "      <td>4</td>\n",
       "      <td>4.0</td>\n",
       "      <td>0.25</td>\n",
       "    </tr>\n",
       "    <tr>\n",
       "      <th>b</th>\n",
       "      <td>2.0</td>\n",
       "      <td>5</td>\n",
       "      <td>10.0</td>\n",
       "      <td>0.40</td>\n",
       "    </tr>\n",
       "    <tr>\n",
       "      <th>c</th>\n",
       "      <td>3.0</td>\n",
       "      <td>6</td>\n",
       "      <td>18.0</td>\n",
       "      <td>0.50</td>\n",
       "    </tr>\n",
       "    <tr>\n",
       "      <th>d</th>\n",
       "      <td>NaN</td>\n",
       "      <td>7</td>\n",
       "      <td>NaN</td>\n",
       "      <td>NaN</td>\n",
       "    </tr>\n",
       "  </tbody>\n",
       "</table>\n",
       "</div>"
      ],
      "text/plain": [
       "   one  two  mult  Assign\n",
       "a  1.0    4   4.0    0.25\n",
       "b  2.0    5  10.0    0.40\n",
       "c  3.0    6  18.0    0.50\n",
       "d  NaN    7   NaN     NaN"
      ]
     },
     "execution_count": 18,
     "metadata": {},
     "output_type": "execute_result"
    }
   ],
   "source": [
    "df_2.assign(divs = lambda x: x[\"two\"] / x[\"one\"]) #assign new cols using lambda\n",
    "df_2"
   ]
  },
  {
   "cell_type": "code",
   "execution_count": 19,
   "metadata": {},
   "outputs": [
    {
     "data": {
      "text/html": [
       "<div>\n",
       "<style scoped>\n",
       "    .dataframe tbody tr th:only-of-type {\n",
       "        vertical-align: middle;\n",
       "    }\n",
       "\n",
       "    .dataframe tbody tr th {\n",
       "        vertical-align: top;\n",
       "    }\n",
       "\n",
       "    .dataframe thead th {\n",
       "        text-align: right;\n",
       "    }\n",
       "</style>\n",
       "<table border=\"1\" class=\"dataframe\">\n",
       "  <thead>\n",
       "    <tr style=\"text-align: right;\">\n",
       "      <th></th>\n",
       "      <th>A</th>\n",
       "    </tr>\n",
       "  </thead>\n",
       "  <tbody>\n",
       "    <tr>\n",
       "      <th>0</th>\n",
       "      <td>1</td>\n",
       "    </tr>\n",
       "    <tr>\n",
       "      <th>1</th>\n",
       "      <td>44</td>\n",
       "    </tr>\n",
       "    <tr>\n",
       "      <th>2</th>\n",
       "      <td>4</td>\n",
       "    </tr>\n",
       "    <tr>\n",
       "      <th>3</th>\n",
       "      <td>NaN</td>\n",
       "    </tr>\n",
       "  </tbody>\n",
       "</table>\n",
       "</div>"
      ],
      "text/plain": [
       "     A\n",
       "0    1\n",
       "1   44\n",
       "2    4\n",
       "3  NaN"
      ]
     },
     "execution_count": 19,
     "metadata": {},
     "output_type": "execute_result"
    }
   ],
   "source": [
    "df_3 = pd.DataFrame({\"A\":[\"1\",44,4,np.nan]})# combining data frames\n",
    "df_4 = pd.DataFrame({\"B\":[\"1\",np.nan,5,9]})\n",
    "df_3.combine_first(df_4)\n",
    "df_3"
   ]
  },
  {
   "cell_type": "markdown",
   "metadata": {},
   "source": [
    "Conditional Selection"
   ]
  },
  {
   "cell_type": "code",
   "execution_count": 20,
   "metadata": {},
   "outputs": [
    {
     "name": "stdout",
     "output_type": "stream",
     "text": [
      "Greater than 40         c      d      e\n",
      "a   True  False  False\n",
      "b  False   True   True\n"
     ]
    }
   ],
   "source": [
    "arr_2 = np.random.randint(10,50,size= (2,3))\n",
    "df_1 = pd.DataFrame(arr_2,[\"a\",\"b\"],[\"c\",\"d\",\"e\"])\n",
    "print(\"Greater than 40 \",df_1 > 40) #get values greter than 40"
   ]
  },
  {
   "cell_type": "code",
   "execution_count": 21,
   "metadata": {},
   "outputs": [
    {
     "data": {
      "text/html": [
       "<div>\n",
       "<style scoped>\n",
       "    .dataframe tbody tr th:only-of-type {\n",
       "        vertical-align: middle;\n",
       "    }\n",
       "\n",
       "    .dataframe tbody tr th {\n",
       "        vertical-align: top;\n",
       "    }\n",
       "\n",
       "    .dataframe thead th {\n",
       "        text-align: right;\n",
       "    }\n",
       "</style>\n",
       "<table border=\"1\" class=\"dataframe\">\n",
       "  <thead>\n",
       "    <tr style=\"text-align: right;\">\n",
       "      <th></th>\n",
       "      <th>c</th>\n",
       "      <th>d</th>\n",
       "      <th>e</th>\n",
       "    </tr>\n",
       "  </thead>\n",
       "  <tbody>\n",
       "    <tr>\n",
       "      <th>a</th>\n",
       "      <td>True</td>\n",
       "      <td>False</td>\n",
       "      <td>False</td>\n",
       "    </tr>\n",
       "    <tr>\n",
       "      <th>b</th>\n",
       "      <td>False</td>\n",
       "      <td>True</td>\n",
       "      <td>True</td>\n",
       "    </tr>\n",
       "  </tbody>\n",
       "</table>\n",
       "</div>"
      ],
      "text/plain": [
       "       c      d      e\n",
       "a   True  False  False\n",
       "b  False   True   True"
      ]
     },
     "execution_count": 21,
     "metadata": {},
     "output_type": "execute_result"
    }
   ],
   "source": [
    "arr = df_1.gt(40.0) #get values greter than 40 using function\n",
    "arr \n",
    "#slly use df_1.ge = greater than or equal to , df_1.le , df_1.lt"
   ]
  },
  {
   "cell_type": "code",
   "execution_count": 22,
   "metadata": {},
   "outputs": [
    {
     "data": {
      "text/plain": [
       "a    False\n",
       "b    False\n",
       "Name: e, dtype: bool"
      ]
     },
     "execution_count": 22,
     "metadata": {},
     "output_type": "execute_result"
    }
   ],
   "source": [
    "bool_1 = df_1 >=45\n",
    "df_1[bool_1]\n",
    "df_1[\"e\"] > 45"
   ]
  },
  {
   "cell_type": "code",
   "execution_count": 23,
   "metadata": {},
   "outputs": [
    {
     "data": {
      "text/html": [
       "<div>\n",
       "<style scoped>\n",
       "    .dataframe tbody tr th:only-of-type {\n",
       "        vertical-align: middle;\n",
       "    }\n",
       "\n",
       "    .dataframe tbody tr th {\n",
       "        vertical-align: top;\n",
       "    }\n",
       "\n",
       "    .dataframe thead th {\n",
       "        text-align: right;\n",
       "    }\n",
       "</style>\n",
       "<table border=\"1\" class=\"dataframe\">\n",
       "  <thead>\n",
       "    <tr style=\"text-align: right;\">\n",
       "      <th></th>\n",
       "      <th>c</th>\n",
       "      <th>d</th>\n",
       "      <th>e</th>\n",
       "    </tr>\n",
       "  </thead>\n",
       "  <tbody>\n",
       "    <tr>\n",
       "      <th>b</th>\n",
       "      <td>35</td>\n",
       "      <td>49</td>\n",
       "      <td>42</td>\n",
       "    </tr>\n",
       "  </tbody>\n",
       "</table>\n",
       "</div>"
      ],
      "text/plain": [
       "    c   d   e\n",
       "b  35  49  42"
      ]
     },
     "execution_count": 23,
     "metadata": {},
     "output_type": "execute_result"
    }
   ],
   "source": [
    "df_1[df_1[\"e\"] > 30]"
   ]
  },
  {
   "cell_type": "code",
   "execution_count": 24,
   "metadata": {},
   "outputs": [
    {
     "name": "stdout",
     "output_type": "stream",
     "text": [
      "    c   d\n",
      "b  35  49\n"
     ]
    }
   ],
   "source": [
    "df_2 = df_1[df_1[\"e\"] > 30]\n",
    "df_2[\"c\"]\n",
    "print(df_1[df_1[\"e\"] > 20][[\"c\",\"d\"]])"
   ]
  },
  {
   "cell_type": "code",
   "execution_count": 25,
   "metadata": {},
   "outputs": [
    {
     "name": "stdout",
     "output_type": "stream",
     "text": [
      "   d  e  f\n",
      "a  1  2  3\n",
      "b  4  5  6\n",
      "c  7  8  9\n"
     ]
    },
    {
     "data": {
      "text/html": [
       "<div>\n",
       "<style scoped>\n",
       "    .dataframe tbody tr th:only-of-type {\n",
       "        vertical-align: middle;\n",
       "    }\n",
       "\n",
       "    .dataframe tbody tr th {\n",
       "        vertical-align: top;\n",
       "    }\n",
       "\n",
       "    .dataframe thead th {\n",
       "        text-align: right;\n",
       "    }\n",
       "</style>\n",
       "<table border=\"1\" class=\"dataframe\">\n",
       "  <thead>\n",
       "    <tr style=\"text-align: right;\">\n",
       "      <th></th>\n",
       "      <th>d</th>\n",
       "      <th>e</th>\n",
       "      <th>f</th>\n",
       "    </tr>\n",
       "  </thead>\n",
       "  <tbody>\n",
       "    <tr>\n",
       "      <th>b</th>\n",
       "      <td>4</td>\n",
       "      <td>5</td>\n",
       "      <td>6</td>\n",
       "    </tr>\n",
       "    <tr>\n",
       "      <th>c</th>\n",
       "      <td>7</td>\n",
       "      <td>8</td>\n",
       "      <td>9</td>\n",
       "    </tr>\n",
       "  </tbody>\n",
       "</table>\n",
       "</div>"
      ],
      "text/plain": [
       "   d  e  f\n",
       "b  4  5  6\n",
       "c  7  8  9"
      ]
     },
     "execution_count": 25,
     "metadata": {},
     "output_type": "execute_result"
    }
   ],
   "source": [
    "arr3 = np.array([[1,2,3],[4,5,6],[7,8,9]])\n",
    "df_2 = pd.DataFrame(arr3,[\"a\",\"b\",\"c\"],[\"d\",\"e\",\"f\"])\n",
    "print(df_2)\n",
    "df_2[(df_2[\"d\"] > 1)|(df_2[\"d\"] <1)]\n"
   ]
  },
  {
   "cell_type": "markdown",
   "metadata": {},
   "source": [
    "File input and output"
   ]
  },
  {
   "cell_type": "code",
   "execution_count": 26,
   "metadata": {},
   "outputs": [
    {
     "data": {
      "text/html": [
       "<div>\n",
       "<style scoped>\n",
       "    .dataframe tbody tr th:only-of-type {\n",
       "        vertical-align: middle;\n",
       "    }\n",
       "\n",
       "    .dataframe tbody tr th {\n",
       "        vertical-align: top;\n",
       "    }\n",
       "\n",
       "    .dataframe thead th {\n",
       "        text-align: right;\n",
       "    }\n",
       "</style>\n",
       "<table border=\"1\" class=\"dataframe\">\n",
       "  <thead>\n",
       "    <tr style=\"text-align: right;\">\n",
       "      <th></th>\n",
       "      <th>Unnamed: 0</th>\n",
       "      <th>Sale ID</th>\n",
       "      <th>Contact</th>\n",
       "      <th>Sex</th>\n",
       "      <th>Age</th>\n",
       "      <th>State</th>\n",
       "      <th>Product ID</th>\n",
       "      <th>Product Type</th>\n",
       "      <th>Sale Price</th>\n",
       "      <th>Profit</th>\n",
       "      <th>Lead</th>\n",
       "      <th>Month</th>\n",
       "      <th>Year</th>\n",
       "    </tr>\n",
       "  </thead>\n",
       "  <tbody>\n",
       "    <tr>\n",
       "      <th>0</th>\n",
       "      <td>0</td>\n",
       "      <td>1</td>\n",
       "      <td>Paul Thomas</td>\n",
       "      <td>M</td>\n",
       "      <td>43</td>\n",
       "      <td>OH</td>\n",
       "      <td>M01-F0024</td>\n",
       "      <td>Desktop</td>\n",
       "      <td>479.99</td>\n",
       "      <td>143.39</td>\n",
       "      <td>Website</td>\n",
       "      <td>January</td>\n",
       "      <td>2018</td>\n",
       "    </tr>\n",
       "    <tr>\n",
       "      <th>1</th>\n",
       "      <td>1</td>\n",
       "      <td>2</td>\n",
       "      <td>Margo Simms</td>\n",
       "      <td>F</td>\n",
       "      <td>37</td>\n",
       "      <td>WV</td>\n",
       "      <td>GT13-0024</td>\n",
       "      <td>Desktop</td>\n",
       "      <td>1249.99</td>\n",
       "      <td>230.89</td>\n",
       "      <td>Flyer 4</td>\n",
       "      <td>January</td>\n",
       "      <td>2018</td>\n",
       "    </tr>\n",
       "    <tr>\n",
       "      <th>2</th>\n",
       "      <td>2</td>\n",
       "      <td>3</td>\n",
       "      <td>Sam Stine</td>\n",
       "      <td>M</td>\n",
       "      <td>26</td>\n",
       "      <td>PA</td>\n",
       "      <td>I3670</td>\n",
       "      <td>Desktop</td>\n",
       "      <td>649.99</td>\n",
       "      <td>118.64</td>\n",
       "      <td>Website</td>\n",
       "      <td>February</td>\n",
       "      <td>2018</td>\n",
       "    </tr>\n",
       "    <tr>\n",
       "      <th>3</th>\n",
       "      <td>3</td>\n",
       "      <td>4</td>\n",
       "      <td>Moe Eggert</td>\n",
       "      <td>M</td>\n",
       "      <td>35</td>\n",
       "      <td>PA</td>\n",
       "      <td>I3593</td>\n",
       "      <td>Laptop</td>\n",
       "      <td>399.99</td>\n",
       "      <td>72.09</td>\n",
       "      <td>Website</td>\n",
       "      <td>March</td>\n",
       "      <td>2018</td>\n",
       "    </tr>\n",
       "    <tr>\n",
       "      <th>4</th>\n",
       "      <td>4</td>\n",
       "      <td>5</td>\n",
       "      <td>Jessica Elk</td>\n",
       "      <td>F</td>\n",
       "      <td>55</td>\n",
       "      <td>PA</td>\n",
       "      <td>15M-ED</td>\n",
       "      <td>Laptop</td>\n",
       "      <td>699.99</td>\n",
       "      <td>98.09</td>\n",
       "      <td>Flyer 4</td>\n",
       "      <td>March</td>\n",
       "      <td>2018</td>\n",
       "    </tr>\n",
       "    <tr>\n",
       "      <th>5</th>\n",
       "      <td>5</td>\n",
       "      <td>6</td>\n",
       "      <td>Sally Struthers</td>\n",
       "      <td>F</td>\n",
       "      <td>45</td>\n",
       "      <td>PA</td>\n",
       "      <td>GT13-0024</td>\n",
       "      <td>Desktop</td>\n",
       "      <td>1249.99</td>\n",
       "      <td>230.89</td>\n",
       "      <td>Flyer 2</td>\n",
       "      <td>April</td>\n",
       "      <td>2018</td>\n",
       "    </tr>\n",
       "    <tr>\n",
       "      <th>6</th>\n",
       "      <td>6</td>\n",
       "      <td>7</td>\n",
       "      <td>Michelle Samms</td>\n",
       "      <td>F</td>\n",
       "      <td>46</td>\n",
       "      <td>OH</td>\n",
       "      <td>GA401IV</td>\n",
       "      <td>Laptop</td>\n",
       "      <td>1349.99</td>\n",
       "      <td>180.34</td>\n",
       "      <td>Email</td>\n",
       "      <td>May</td>\n",
       "      <td>2018</td>\n",
       "    </tr>\n",
       "    <tr>\n",
       "      <th>7</th>\n",
       "      <td>7</td>\n",
       "      <td>8</td>\n",
       "      <td>Mick Roberts</td>\n",
       "      <td>M</td>\n",
       "      <td>23</td>\n",
       "      <td>OH</td>\n",
       "      <td>MY2J2LL</td>\n",
       "      <td>Tablet</td>\n",
       "      <td>999.99</td>\n",
       "      <td>146.69</td>\n",
       "      <td>Website</td>\n",
       "      <td>July</td>\n",
       "      <td>2018</td>\n",
       "    </tr>\n",
       "    <tr>\n",
       "      <th>8</th>\n",
       "      <td>8</td>\n",
       "      <td>9</td>\n",
       "      <td>Ed Klondike</td>\n",
       "      <td>M</td>\n",
       "      <td>52</td>\n",
       "      <td>OH</td>\n",
       "      <td>81TC00</td>\n",
       "      <td>Laptop</td>\n",
       "      <td>649.99</td>\n",
       "      <td>122.34</td>\n",
       "      <td>Email</td>\n",
       "      <td>July</td>\n",
       "      <td>2018</td>\n",
       "    </tr>\n",
       "    <tr>\n",
       "      <th>9</th>\n",
       "      <td>9</td>\n",
       "      <td>10</td>\n",
       "      <td>Phil Jones</td>\n",
       "      <td>M</td>\n",
       "      <td>56</td>\n",
       "      <td>WV</td>\n",
       "      <td>M01-F0024</td>\n",
       "      <td>Desktop</td>\n",
       "      <td>479.99</td>\n",
       "      <td>143.39</td>\n",
       "      <td>Flyer 2</td>\n",
       "      <td>August</td>\n",
       "      <td>2018</td>\n",
       "    </tr>\n",
       "    <tr>\n",
       "      <th>10</th>\n",
       "      <td>10</td>\n",
       "      <td>11</td>\n",
       "      <td>Rick James</td>\n",
       "      <td>M</td>\n",
       "      <td>49</td>\n",
       "      <td>PA</td>\n",
       "      <td>GA401IV</td>\n",
       "      <td>Laptop</td>\n",
       "      <td>1349.99</td>\n",
       "      <td>180.34</td>\n",
       "      <td>Flyer 3</td>\n",
       "      <td>November</td>\n",
       "      <td>2018</td>\n",
       "    </tr>\n",
       "    <tr>\n",
       "      <th>11</th>\n",
       "      <td>11</td>\n",
       "      <td>12</td>\n",
       "      <td>Sue Etna</td>\n",
       "      <td>F</td>\n",
       "      <td>54</td>\n",
       "      <td>OH</td>\n",
       "      <td>GT13-0024</td>\n",
       "      <td>Desktop</td>\n",
       "      <td>1249.99</td>\n",
       "      <td>230.89</td>\n",
       "      <td>Flyer 2</td>\n",
       "      <td>November</td>\n",
       "      <td>2018</td>\n",
       "    </tr>\n",
       "    <tr>\n",
       "      <th>12</th>\n",
       "      <td>12</td>\n",
       "      <td>13</td>\n",
       "      <td>Jason Case</td>\n",
       "      <td>M</td>\n",
       "      <td>57</td>\n",
       "      <td>PA</td>\n",
       "      <td>81TC00</td>\n",
       "      <td>Laptop</td>\n",
       "      <td>649.99</td>\n",
       "      <td>122.34</td>\n",
       "      <td>Email</td>\n",
       "      <td>November</td>\n",
       "      <td>2018</td>\n",
       "    </tr>\n",
       "    <tr>\n",
       "      <th>13</th>\n",
       "      <td>13</td>\n",
       "      <td>14</td>\n",
       "      <td>Doug Johnson</td>\n",
       "      <td>M</td>\n",
       "      <td>51</td>\n",
       "      <td>PA</td>\n",
       "      <td>I3670</td>\n",
       "      <td>Desktop</td>\n",
       "      <td>649.99</td>\n",
       "      <td>118.64</td>\n",
       "      <td>Website</td>\n",
       "      <td>December</td>\n",
       "      <td>2018</td>\n",
       "    </tr>\n",
       "    <tr>\n",
       "      <th>14</th>\n",
       "      <td>14</td>\n",
       "      <td>15</td>\n",
       "      <td>Andy Sands</td>\n",
       "      <td>M</td>\n",
       "      <td>56</td>\n",
       "      <td>OH</td>\n",
       "      <td>MY2J2LL</td>\n",
       "      <td>Tablet</td>\n",
       "      <td>999.99</td>\n",
       "      <td>146.69</td>\n",
       "      <td>Flyer 1</td>\n",
       "      <td>December</td>\n",
       "      <td>2018</td>\n",
       "    </tr>\n",
       "    <tr>\n",
       "      <th>15</th>\n",
       "      <td>15</td>\n",
       "      <td>16</td>\n",
       "      <td>Kim Collins</td>\n",
       "      <td>F</td>\n",
       "      <td>49</td>\n",
       "      <td>PA</td>\n",
       "      <td>I3593</td>\n",
       "      <td>Laptop</td>\n",
       "      <td>399.99</td>\n",
       "      <td>72.09</td>\n",
       "      <td>Flyer 2</td>\n",
       "      <td>January</td>\n",
       "      <td>2019</td>\n",
       "    </tr>\n",
       "    <tr>\n",
       "      <th>16</th>\n",
       "      <td>16</td>\n",
       "      <td>17</td>\n",
       "      <td>Edna Sanders</td>\n",
       "      <td>F</td>\n",
       "      <td>46</td>\n",
       "      <td>OH</td>\n",
       "      <td>15M-ED</td>\n",
       "      <td>Laptop</td>\n",
       "      <td>699.99</td>\n",
       "      <td>98.09</td>\n",
       "      <td>Email</td>\n",
       "      <td>February</td>\n",
       "      <td>2019</td>\n",
       "    </tr>\n",
       "    <tr>\n",
       "      <th>17</th>\n",
       "      <td>17</td>\n",
       "      <td>18</td>\n",
       "      <td>Michelle Samms</td>\n",
       "      <td>F</td>\n",
       "      <td>46</td>\n",
       "      <td>NY</td>\n",
       "      <td>MY2J2LL</td>\n",
       "      <td>Tablet</td>\n",
       "      <td>999.99</td>\n",
       "      <td>146.69</td>\n",
       "      <td>Website</td>\n",
       "      <td>March</td>\n",
       "      <td>2019</td>\n",
       "    </tr>\n",
       "    <tr>\n",
       "      <th>18</th>\n",
       "      <td>18</td>\n",
       "      <td>19</td>\n",
       "      <td>Mick Roberts</td>\n",
       "      <td>M</td>\n",
       "      <td>23</td>\n",
       "      <td>PA</td>\n",
       "      <td>I3593</td>\n",
       "      <td>Laptop</td>\n",
       "      <td>399.99</td>\n",
       "      <td>72.09</td>\n",
       "      <td>Flyer 4</td>\n",
       "      <td>March</td>\n",
       "      <td>2019</td>\n",
       "    </tr>\n",
       "    <tr>\n",
       "      <th>19</th>\n",
       "      <td>19</td>\n",
       "      <td>20</td>\n",
       "      <td>Sally Struthers</td>\n",
       "      <td>F</td>\n",
       "      <td>45</td>\n",
       "      <td>NY</td>\n",
       "      <td>81TC00</td>\n",
       "      <td>Laptop</td>\n",
       "      <td>649.99</td>\n",
       "      <td>122.34</td>\n",
       "      <td>Website</td>\n",
       "      <td>April</td>\n",
       "      <td>2019</td>\n",
       "    </tr>\n",
       "    <tr>\n",
       "      <th>20</th>\n",
       "      <td>20</td>\n",
       "      <td>21</td>\n",
       "      <td>Jason Case</td>\n",
       "      <td>M</td>\n",
       "      <td>57</td>\n",
       "      <td>PA</td>\n",
       "      <td>M01-F0024</td>\n",
       "      <td>Desktop</td>\n",
       "      <td>479.99</td>\n",
       "      <td>143.39</td>\n",
       "      <td>Flyer 4</td>\n",
       "      <td>May</td>\n",
       "      <td>2019</td>\n",
       "    </tr>\n",
       "    <tr>\n",
       "      <th>21</th>\n",
       "      <td>21</td>\n",
       "      <td>22</td>\n",
       "      <td>Doug Johnson</td>\n",
       "      <td>M</td>\n",
       "      <td>51</td>\n",
       "      <td>PA</td>\n",
       "      <td>GA401IV</td>\n",
       "      <td>Laptop</td>\n",
       "      <td>1349.99</td>\n",
       "      <td>180.34</td>\n",
       "      <td>Website</td>\n",
       "      <td>August</td>\n",
       "      <td>2019</td>\n",
       "    </tr>\n",
       "    <tr>\n",
       "      <th>22</th>\n",
       "      <td>22</td>\n",
       "      <td>23</td>\n",
       "      <td>Paul Thomas</td>\n",
       "      <td>M</td>\n",
       "      <td>43</td>\n",
       "      <td>OH</td>\n",
       "      <td>81TC00</td>\n",
       "      <td>Laptop</td>\n",
       "      <td>649.99</td>\n",
       "      <td>122.34</td>\n",
       "      <td>Website</td>\n",
       "      <td>August</td>\n",
       "      <td>2019</td>\n",
       "    </tr>\n",
       "    <tr>\n",
       "      <th>23</th>\n",
       "      <td>23</td>\n",
       "      <td>24</td>\n",
       "      <td>Margo Simms</td>\n",
       "      <td>F</td>\n",
       "      <td>37</td>\n",
       "      <td>WV</td>\n",
       "      <td>Q526FA</td>\n",
       "      <td>Laptop</td>\n",
       "      <td>1049.99</td>\n",
       "      <td>143.09</td>\n",
       "      <td>Flyer 4</td>\n",
       "      <td>November</td>\n",
       "      <td>2019</td>\n",
       "    </tr>\n",
       "    <tr>\n",
       "      <th>24</th>\n",
       "      <td>24</td>\n",
       "      <td>25</td>\n",
       "      <td>Michelle Samms</td>\n",
       "      <td>F</td>\n",
       "      <td>46</td>\n",
       "      <td>NY</td>\n",
       "      <td>I3670</td>\n",
       "      <td>Desktop</td>\n",
       "      <td>649.99</td>\n",
       "      <td>118.64</td>\n",
       "      <td>Flyer 2</td>\n",
       "      <td>November</td>\n",
       "      <td>2019</td>\n",
       "    </tr>\n",
       "    <tr>\n",
       "      <th>25</th>\n",
       "      <td>25</td>\n",
       "      <td>26</td>\n",
       "      <td>Mick Roberts</td>\n",
       "      <td>M</td>\n",
       "      <td>23</td>\n",
       "      <td>PA</td>\n",
       "      <td>Q526FA</td>\n",
       "      <td>Laptop</td>\n",
       "      <td>1049.99</td>\n",
       "      <td>143.09</td>\n",
       "      <td>Email</td>\n",
       "      <td>November</td>\n",
       "      <td>2019</td>\n",
       "    </tr>\n",
       "    <tr>\n",
       "      <th>26</th>\n",
       "      <td>26</td>\n",
       "      <td>27</td>\n",
       "      <td>Ed Klondike</td>\n",
       "      <td>M</td>\n",
       "      <td>52</td>\n",
       "      <td>OH</td>\n",
       "      <td>Q526FA</td>\n",
       "      <td>Laptop</td>\n",
       "      <td>1049.99</td>\n",
       "      <td>143.09</td>\n",
       "      <td>Website</td>\n",
       "      <td>December</td>\n",
       "      <td>2019</td>\n",
       "    </tr>\n",
       "    <tr>\n",
       "      <th>27</th>\n",
       "      <td>27</td>\n",
       "      <td>28</td>\n",
       "      <td>Moe Eggert</td>\n",
       "      <td>M</td>\n",
       "      <td>35</td>\n",
       "      <td>PA</td>\n",
       "      <td>15M-ED</td>\n",
       "      <td>Laptop</td>\n",
       "      <td>699.99</td>\n",
       "      <td>98.09</td>\n",
       "      <td>Email</td>\n",
       "      <td>December</td>\n",
       "      <td>2019</td>\n",
       "    </tr>\n",
       "    <tr>\n",
       "      <th>28</th>\n",
       "      <td>28</td>\n",
       "      <td>29</td>\n",
       "      <td>Jessica Elk</td>\n",
       "      <td>F</td>\n",
       "      <td>55</td>\n",
       "      <td>PA</td>\n",
       "      <td>GA401IV</td>\n",
       "      <td>Laptop</td>\n",
       "      <td>1349.99</td>\n",
       "      <td>180.34</td>\n",
       "      <td>Flyer 2</td>\n",
       "      <td>December</td>\n",
       "      <td>2019</td>\n",
       "    </tr>\n",
       "    <tr>\n",
       "      <th>29</th>\n",
       "      <td>29</td>\n",
       "      <td>30</td>\n",
       "      <td>Phil Jones</td>\n",
       "      <td>M</td>\n",
       "      <td>56</td>\n",
       "      <td>WV</td>\n",
       "      <td>M01-F0024</td>\n",
       "      <td>Desktop</td>\n",
       "      <td>479.99</td>\n",
       "      <td>143.39</td>\n",
       "      <td>Flyer 2</td>\n",
       "      <td>January</td>\n",
       "      <td>2020</td>\n",
       "    </tr>\n",
       "    <tr>\n",
       "      <th>30</th>\n",
       "      <td>30</td>\n",
       "      <td>31</td>\n",
       "      <td>Rick James</td>\n",
       "      <td>M</td>\n",
       "      <td>49</td>\n",
       "      <td>PA</td>\n",
       "      <td>GA401IV</td>\n",
       "      <td>Laptop</td>\n",
       "      <td>1349.99</td>\n",
       "      <td>180.34</td>\n",
       "      <td>Flyer 1</td>\n",
       "      <td>January</td>\n",
       "      <td>2020</td>\n",
       "    </tr>\n",
       "    <tr>\n",
       "      <th>31</th>\n",
       "      <td>31</td>\n",
       "      <td>32</td>\n",
       "      <td>Sue Etna</td>\n",
       "      <td>F</td>\n",
       "      <td>54</td>\n",
       "      <td>OH</td>\n",
       "      <td>GT13-0024</td>\n",
       "      <td>Desktop</td>\n",
       "      <td>1249.99</td>\n",
       "      <td>230.89</td>\n",
       "      <td>Flyer 2</td>\n",
       "      <td>February</td>\n",
       "      <td>2020</td>\n",
       "    </tr>\n",
       "    <tr>\n",
       "      <th>32</th>\n",
       "      <td>32</td>\n",
       "      <td>33</td>\n",
       "      <td>Kim Collins</td>\n",
       "      <td>F</td>\n",
       "      <td>49</td>\n",
       "      <td>PA</td>\n",
       "      <td>I3593</td>\n",
       "      <td>Laptop</td>\n",
       "      <td>399.99</td>\n",
       "      <td>72.09</td>\n",
       "      <td>Flyer 2</td>\n",
       "      <td>March</td>\n",
       "      <td>2020</td>\n",
       "    </tr>\n",
       "    <tr>\n",
       "      <th>33</th>\n",
       "      <td>33</td>\n",
       "      <td>34</td>\n",
       "      <td>Edna Sanders</td>\n",
       "      <td>F</td>\n",
       "      <td>46</td>\n",
       "      <td>OH</td>\n",
       "      <td>15M-ED</td>\n",
       "      <td>Laptop</td>\n",
       "      <td>699.99</td>\n",
       "      <td>98.09</td>\n",
       "      <td>Email</td>\n",
       "      <td>March</td>\n",
       "      <td>2020</td>\n",
       "    </tr>\n",
       "    <tr>\n",
       "      <th>34</th>\n",
       "      <td>34</td>\n",
       "      <td>35</td>\n",
       "      <td>Michelle Samms</td>\n",
       "      <td>F</td>\n",
       "      <td>46</td>\n",
       "      <td>NY</td>\n",
       "      <td>MY2J2LL</td>\n",
       "      <td>Tablet</td>\n",
       "      <td>999.99</td>\n",
       "      <td>146.69</td>\n",
       "      <td>Website</td>\n",
       "      <td>April</td>\n",
       "      <td>2020</td>\n",
       "    </tr>\n",
       "    <tr>\n",
       "      <th>35</th>\n",
       "      <td>35</td>\n",
       "      <td>36</td>\n",
       "      <td>Sally Struthers</td>\n",
       "      <td>F</td>\n",
       "      <td>45</td>\n",
       "      <td>NY</td>\n",
       "      <td>81TC00</td>\n",
       "      <td>Laptop</td>\n",
       "      <td>649.99</td>\n",
       "      <td>122.34</td>\n",
       "      <td>Website</td>\n",
       "      <td>April</td>\n",
       "      <td>2020</td>\n",
       "    </tr>\n",
       "    <tr>\n",
       "      <th>36</th>\n",
       "      <td>36</td>\n",
       "      <td>37</td>\n",
       "      <td>Jason Case</td>\n",
       "      <td>M</td>\n",
       "      <td>57</td>\n",
       "      <td>PA</td>\n",
       "      <td>M01-F0024</td>\n",
       "      <td>Desktop</td>\n",
       "      <td>479.99</td>\n",
       "      <td>143.39</td>\n",
       "      <td>Flyer 4</td>\n",
       "      <td>April</td>\n",
       "      <td>2020</td>\n",
       "    </tr>\n",
       "    <tr>\n",
       "      <th>37</th>\n",
       "      <td>37</td>\n",
       "      <td>38</td>\n",
       "      <td>Doug Johnson</td>\n",
       "      <td>M</td>\n",
       "      <td>51</td>\n",
       "      <td>PA</td>\n",
       "      <td>GA401IV</td>\n",
       "      <td>Laptop</td>\n",
       "      <td>1349.99</td>\n",
       "      <td>180.34</td>\n",
       "      <td>Website</td>\n",
       "      <td>May</td>\n",
       "      <td>2020</td>\n",
       "    </tr>\n",
       "    <tr>\n",
       "      <th>38</th>\n",
       "      <td>38</td>\n",
       "      <td>39</td>\n",
       "      <td>Moe Eggert</td>\n",
       "      <td>M</td>\n",
       "      <td>35</td>\n",
       "      <td>PA</td>\n",
       "      <td>I3593</td>\n",
       "      <td>Laptop</td>\n",
       "      <td>399.99</td>\n",
       "      <td>72.09</td>\n",
       "      <td>Website</td>\n",
       "      <td>May</td>\n",
       "      <td>2020</td>\n",
       "    </tr>\n",
       "  </tbody>\n",
       "</table>\n",
       "</div>"
      ],
      "text/plain": [
       "    Unnamed: 0  Sale ID          Contact Sex  Age State Product ID  \\\n",
       "0            0        1      Paul Thomas   M   43    OH  M01-F0024   \n",
       "1            1        2      Margo Simms   F   37    WV  GT13-0024   \n",
       "2            2        3        Sam Stine   M   26    PA      I3670   \n",
       "3            3        4       Moe Eggert   M   35    PA      I3593   \n",
       "4            4        5      Jessica Elk   F   55    PA     15M-ED   \n",
       "5            5        6  Sally Struthers   F   45    PA  GT13-0024   \n",
       "6            6        7   Michelle Samms   F   46    OH    GA401IV   \n",
       "7            7        8     Mick Roberts   M   23    OH    MY2J2LL   \n",
       "8            8        9      Ed Klondike   M   52    OH     81TC00   \n",
       "9            9       10       Phil Jones   M   56    WV  M01-F0024   \n",
       "10          10       11       Rick James   M   49    PA    GA401IV   \n",
       "11          11       12         Sue Etna   F   54    OH  GT13-0024   \n",
       "12          12       13       Jason Case   M   57    PA     81TC00   \n",
       "13          13       14     Doug Johnson   M   51    PA      I3670   \n",
       "14          14       15       Andy Sands   M   56    OH    MY2J2LL   \n",
       "15          15       16      Kim Collins   F   49    PA      I3593   \n",
       "16          16       17     Edna Sanders   F   46    OH     15M-ED   \n",
       "17          17       18   Michelle Samms   F   46    NY    MY2J2LL   \n",
       "18          18       19     Mick Roberts   M   23    PA      I3593   \n",
       "19          19       20  Sally Struthers   F   45    NY     81TC00   \n",
       "20          20       21       Jason Case   M   57    PA  M01-F0024   \n",
       "21          21       22     Doug Johnson   M   51    PA    GA401IV   \n",
       "22          22       23      Paul Thomas   M   43    OH     81TC00   \n",
       "23          23       24      Margo Simms   F   37    WV     Q526FA   \n",
       "24          24       25   Michelle Samms   F   46    NY      I3670   \n",
       "25          25       26     Mick Roberts   M   23    PA     Q526FA   \n",
       "26          26       27      Ed Klondike   M   52    OH     Q526FA   \n",
       "27          27       28       Moe Eggert   M   35    PA     15M-ED   \n",
       "28          28       29      Jessica Elk   F   55    PA    GA401IV   \n",
       "29          29       30       Phil Jones   M   56    WV  M01-F0024   \n",
       "30          30       31       Rick James   M   49    PA    GA401IV   \n",
       "31          31       32         Sue Etna   F   54    OH  GT13-0024   \n",
       "32          32       33      Kim Collins   F   49    PA      I3593   \n",
       "33          33       34     Edna Sanders   F   46    OH     15M-ED   \n",
       "34          34       35   Michelle Samms   F   46    NY    MY2J2LL   \n",
       "35          35       36  Sally Struthers   F   45    NY     81TC00   \n",
       "36          36       37       Jason Case   M   57    PA  M01-F0024   \n",
       "37          37       38     Doug Johnson   M   51    PA    GA401IV   \n",
       "38          38       39       Moe Eggert   M   35    PA      I3593   \n",
       "\n",
       "   Product Type  Sale Price  Profit     Lead     Month  Year  \n",
       "0       Desktop      479.99  143.39  Website   January  2018  \n",
       "1       Desktop     1249.99  230.89  Flyer 4   January  2018  \n",
       "2       Desktop      649.99  118.64  Website  February  2018  \n",
       "3        Laptop      399.99   72.09  Website     March  2018  \n",
       "4        Laptop      699.99   98.09  Flyer 4     March  2018  \n",
       "5       Desktop     1249.99  230.89  Flyer 2     April  2018  \n",
       "6        Laptop     1349.99  180.34    Email       May  2018  \n",
       "7        Tablet      999.99  146.69  Website      July  2018  \n",
       "8        Laptop      649.99  122.34    Email      July  2018  \n",
       "9       Desktop      479.99  143.39  Flyer 2    August  2018  \n",
       "10       Laptop     1349.99  180.34  Flyer 3  November  2018  \n",
       "11      Desktop     1249.99  230.89  Flyer 2  November  2018  \n",
       "12       Laptop      649.99  122.34    Email  November  2018  \n",
       "13      Desktop      649.99  118.64  Website  December  2018  \n",
       "14       Tablet      999.99  146.69  Flyer 1  December  2018  \n",
       "15       Laptop      399.99   72.09  Flyer 2   January  2019  \n",
       "16       Laptop      699.99   98.09    Email  February  2019  \n",
       "17       Tablet      999.99  146.69  Website     March  2019  \n",
       "18       Laptop      399.99   72.09  Flyer 4     March  2019  \n",
       "19       Laptop      649.99  122.34  Website     April  2019  \n",
       "20      Desktop      479.99  143.39  Flyer 4       May  2019  \n",
       "21       Laptop     1349.99  180.34  Website    August  2019  \n",
       "22       Laptop      649.99  122.34  Website    August  2019  \n",
       "23       Laptop     1049.99  143.09  Flyer 4  November  2019  \n",
       "24      Desktop      649.99  118.64  Flyer 2  November  2019  \n",
       "25       Laptop     1049.99  143.09    Email  November  2019  \n",
       "26       Laptop     1049.99  143.09  Website  December  2019  \n",
       "27       Laptop      699.99   98.09    Email  December  2019  \n",
       "28       Laptop     1349.99  180.34  Flyer 2  December  2019  \n",
       "29      Desktop      479.99  143.39  Flyer 2   January  2020  \n",
       "30       Laptop     1349.99  180.34  Flyer 1   January  2020  \n",
       "31      Desktop     1249.99  230.89  Flyer 2  February  2020  \n",
       "32       Laptop      399.99   72.09  Flyer 2     March  2020  \n",
       "33       Laptop      699.99   98.09    Email     March  2020  \n",
       "34       Tablet      999.99  146.69  Website     April  2020  \n",
       "35       Laptop      649.99  122.34  Website     April  2020  \n",
       "36      Desktop      479.99  143.39  Flyer 4     April  2020  \n",
       "37       Laptop     1349.99  180.34  Website       May  2020  \n",
       "38       Laptop      399.99   72.09  Website       May  2020  "
      ]
     },
     "execution_count": 26,
     "metadata": {},
     "output_type": "execute_result"
    }
   ],
   "source": [
    "df = pd.read_csv(r\"C:\\Users\\amand\\Desktop\\cpp_practice\\comp.csv\")\n",
    "df.to_csv(\"computr.csv\") #saving original data copy\n",
    "pd.read_excel(r\"C:\\Users\\amand\\Desktop\\cpp_practice\\fsale.xlsx\",0)\n",
    "df.to_excel(r\"C:\\Users\\amand\\Desktop\\cpp_practice\\computr.xlsx\")\n",
    "pd.read_excel(r\"C:\\Users\\amand\\Desktop\\cpp_practice\\computr.xlsx\")"
   ]
  },
  {
   "cell_type": "markdown",
   "metadata": {},
   "source": [
    "Basic Maths"
   ]
  },
  {
   "cell_type": "code",
   "execution_count": 27,
   "metadata": {},
   "outputs": [
    {
     "data": {
      "text/html": [
       "<div>\n",
       "<style scoped>\n",
       "    .dataframe tbody tr th:only-of-type {\n",
       "        vertical-align: middle;\n",
       "    }\n",
       "\n",
       "    .dataframe tbody tr th {\n",
       "        vertical-align: top;\n",
       "    }\n",
       "\n",
       "    .dataframe thead th {\n",
       "        text-align: right;\n",
       "    }\n",
       "</style>\n",
       "<table border=\"1\" class=\"dataframe\">\n",
       "  <thead>\n",
       "    <tr style=\"text-align: right;\">\n",
       "      <th></th>\n",
       "      <th>Sale ID</th>\n",
       "      <th>Contact</th>\n",
       "      <th>Sex</th>\n",
       "      <th>Age</th>\n",
       "      <th>State</th>\n",
       "      <th>Product ID</th>\n",
       "      <th>Product Type</th>\n",
       "      <th>Sale Price</th>\n",
       "      <th>Profit</th>\n",
       "      <th>Lead</th>\n",
       "      <th>Month</th>\n",
       "      <th>Year</th>\n",
       "    </tr>\n",
       "  </thead>\n",
       "  <tbody>\n",
       "    <tr>\n",
       "      <th>0</th>\n",
       "      <td>1</td>\n",
       "      <td>Paul Thomas</td>\n",
       "      <td>M</td>\n",
       "      <td>43</td>\n",
       "      <td>OH</td>\n",
       "      <td>M01-F0024</td>\n",
       "      <td>Desktop</td>\n",
       "      <td>479.99</td>\n",
       "      <td>143.39</td>\n",
       "      <td>Website</td>\n",
       "      <td>January</td>\n",
       "      <td>2018</td>\n",
       "    </tr>\n",
       "    <tr>\n",
       "      <th>2</th>\n",
       "      <td>3</td>\n",
       "      <td>Sam Stine</td>\n",
       "      <td>M</td>\n",
       "      <td>26</td>\n",
       "      <td>PA</td>\n",
       "      <td>I3670</td>\n",
       "      <td>Desktop</td>\n",
       "      <td>649.99</td>\n",
       "      <td>118.64</td>\n",
       "      <td>Website</td>\n",
       "      <td>February</td>\n",
       "      <td>2018</td>\n",
       "    </tr>\n",
       "    <tr>\n",
       "      <th>4</th>\n",
       "      <td>5</td>\n",
       "      <td>Jessica Elk</td>\n",
       "      <td>F</td>\n",
       "      <td>55</td>\n",
       "      <td>PA</td>\n",
       "      <td>15M-ED</td>\n",
       "      <td>Laptop</td>\n",
       "      <td>699.99</td>\n",
       "      <td>98.09</td>\n",
       "      <td>Flyer 4</td>\n",
       "      <td>March</td>\n",
       "      <td>2018</td>\n",
       "    </tr>\n",
       "  </tbody>\n",
       "</table>\n",
       "</div>"
      ],
      "text/plain": [
       "   Sale ID      Contact Sex  Age State Product ID Product Type  Sale Price  \\\n",
       "0        1  Paul Thomas   M   43    OH  M01-F0024      Desktop      479.99   \n",
       "2        3    Sam Stine   M   26    PA      I3670      Desktop      649.99   \n",
       "4        5  Jessica Elk   F   55    PA     15M-ED       Laptop      699.99   \n",
       "\n",
       "   Profit     Lead     Month  Year  \n",
       "0  143.39  Website   January  2018  \n",
       "2  118.64  Website  February  2018  \n",
       "4   98.09  Flyer 4     March  2018  "
      ]
     },
     "execution_count": 27,
     "metadata": {},
     "output_type": "execute_result"
    }
   ],
   "source": [
    "df.tail()\n",
    "df[:2] #fisrt 2 rows\n",
    "df[:5:2]"
   ]
  },
  {
   "cell_type": "code",
   "execution_count": 28,
   "metadata": {},
   "outputs": [
    {
     "data": {
      "text/plain": [
       "array([ 0,  1,  2,  3,  4,  5,  6,  7,  8,  9, 10, 11, 12, 13, 14, 15, 16,\n",
       "       17, 18, 19, 20, 21, 22, 23, 24, 25, 26, 27, 28, 29, 30, 31, 32, 33,\n",
       "       34, 35, 36, 37, 38], dtype=int64)"
      ]
     },
     "execution_count": 28,
     "metadata": {},
     "output_type": "execute_result"
    }
   ],
   "source": [
    "np.array(df.index.array) #np array of indexes"
   ]
  },
  {
   "cell_type": "code",
   "execution_count": 29,
   "metadata": {},
   "outputs": [
    {
     "data": {
      "text/plain": [
       "<bound method DataFrame.to_numpy of     Sale ID          Contact Sex  Age State Product ID Product Type  \\\n",
       "0         1      Paul Thomas   M   43    OH  M01-F0024      Desktop   \n",
       "1         2      Margo Simms   F   37    WV  GT13-0024      Desktop   \n",
       "2         3        Sam Stine   M   26    PA      I3670      Desktop   \n",
       "3         4       Moe Eggert   M   35    PA      I3593       Laptop   \n",
       "4         5      Jessica Elk   F   55    PA     15M-ED       Laptop   \n",
       "5         6  Sally Struthers   F   45    PA  GT13-0024      Desktop   \n",
       "6         7   Michelle Samms   F   46    OH    GA401IV       Laptop   \n",
       "7         8     Mick Roberts   M   23    OH    MY2J2LL       Tablet   \n",
       "8         9      Ed Klondike   M   52    OH     81TC00       Laptop   \n",
       "9        10       Phil Jones   M   56    WV  M01-F0024      Desktop   \n",
       "10       11       Rick James   M   49    PA    GA401IV       Laptop   \n",
       "11       12         Sue Etna   F   54    OH  GT13-0024      Desktop   \n",
       "12       13       Jason Case   M   57    PA     81TC00       Laptop   \n",
       "13       14     Doug Johnson   M   51    PA      I3670      Desktop   \n",
       "14       15       Andy Sands   M   56    OH    MY2J2LL       Tablet   \n",
       "15       16      Kim Collins   F   49    PA      I3593       Laptop   \n",
       "16       17     Edna Sanders   F   46    OH     15M-ED       Laptop   \n",
       "17       18   Michelle Samms   F   46    NY    MY2J2LL       Tablet   \n",
       "18       19     Mick Roberts   M   23    PA      I3593       Laptop   \n",
       "19       20  Sally Struthers   F   45    NY     81TC00       Laptop   \n",
       "20       21       Jason Case   M   57    PA  M01-F0024      Desktop   \n",
       "21       22     Doug Johnson   M   51    PA    GA401IV       Laptop   \n",
       "22       23      Paul Thomas   M   43    OH     81TC00       Laptop   \n",
       "23       24      Margo Simms   F   37    WV     Q526FA       Laptop   \n",
       "24       25   Michelle Samms   F   46    NY      I3670      Desktop   \n",
       "25       26     Mick Roberts   M   23    PA     Q526FA       Laptop   \n",
       "26       27      Ed Klondike   M   52    OH     Q526FA       Laptop   \n",
       "27       28       Moe Eggert   M   35    PA     15M-ED       Laptop   \n",
       "28       29      Jessica Elk   F   55    PA    GA401IV       Laptop   \n",
       "29       30       Phil Jones   M   56    WV  M01-F0024      Desktop   \n",
       "30       31       Rick James   M   49    PA    GA401IV       Laptop   \n",
       "31       32         Sue Etna   F   54    OH  GT13-0024      Desktop   \n",
       "32       33      Kim Collins   F   49    PA      I3593       Laptop   \n",
       "33       34     Edna Sanders   F   46    OH     15M-ED       Laptop   \n",
       "34       35   Michelle Samms   F   46    NY    MY2J2LL       Tablet   \n",
       "35       36  Sally Struthers   F   45    NY     81TC00       Laptop   \n",
       "36       37       Jason Case   M   57    PA  M01-F0024      Desktop   \n",
       "37       38     Doug Johnson   M   51    PA    GA401IV       Laptop   \n",
       "38       39       Moe Eggert   M   35    PA      I3593       Laptop   \n",
       "\n",
       "    Sale Price  Profit     Lead     Month  Year  \n",
       "0       479.99  143.39  Website   January  2018  \n",
       "1      1249.99  230.89  Flyer 4   January  2018  \n",
       "2       649.99  118.64  Website  February  2018  \n",
       "3       399.99   72.09  Website     March  2018  \n",
       "4       699.99   98.09  Flyer 4     March  2018  \n",
       "5      1249.99  230.89  Flyer 2     April  2018  \n",
       "6      1349.99  180.34    Email       May  2018  \n",
       "7       999.99  146.69  Website      July  2018  \n",
       "8       649.99  122.34    Email      July  2018  \n",
       "9       479.99  143.39  Flyer 2    August  2018  \n",
       "10     1349.99  180.34  Flyer 3  November  2018  \n",
       "11     1249.99  230.89  Flyer 2  November  2018  \n",
       "12      649.99  122.34    Email  November  2018  \n",
       "13      649.99  118.64  Website  December  2018  \n",
       "14      999.99  146.69  Flyer 1  December  2018  \n",
       "15      399.99   72.09  Flyer 2   January  2019  \n",
       "16      699.99   98.09    Email  February  2019  \n",
       "17      999.99  146.69  Website     March  2019  \n",
       "18      399.99   72.09  Flyer 4     March  2019  \n",
       "19      649.99  122.34  Website     April  2019  \n",
       "20      479.99  143.39  Flyer 4       May  2019  \n",
       "21     1349.99  180.34  Website    August  2019  \n",
       "22      649.99  122.34  Website    August  2019  \n",
       "23     1049.99  143.09  Flyer 4  November  2019  \n",
       "24      649.99  118.64  Flyer 2  November  2019  \n",
       "25     1049.99  143.09    Email  November  2019  \n",
       "26     1049.99  143.09  Website  December  2019  \n",
       "27      699.99   98.09    Email  December  2019  \n",
       "28     1349.99  180.34  Flyer 2  December  2019  \n",
       "29      479.99  143.39  Flyer 2   January  2020  \n",
       "30     1349.99  180.34  Flyer 1   January  2020  \n",
       "31     1249.99  230.89  Flyer 2  February  2020  \n",
       "32      399.99   72.09  Flyer 2     March  2020  \n",
       "33      699.99   98.09    Email     March  2020  \n",
       "34      999.99  146.69  Website     April  2020  \n",
       "35      649.99  122.34  Website     April  2020  \n",
       "36      479.99  143.39  Flyer 4     April  2020  \n",
       "37     1349.99  180.34  Website       May  2020  \n",
       "38      399.99   72.09  Website       May  2020  >"
      ]
     },
     "execution_count": 29,
     "metadata": {},
     "output_type": "execute_result"
    }
   ],
   "source": [
    "df.to_numpy #whole data to numpy"
   ]
  },
  {
   "cell_type": "code",
   "execution_count": 30,
   "metadata": {},
   "outputs": [],
   "source": [
    "dict_3 = {\"one\":pd.Series([1,2,np.nan],index=[\"a\",\"b\",\"c\"]),\"two\":pd.Series([4,5,6],index=[\"a\",\"b\",\"c\"])}\n",
    "df_2 = pd.DataFrame(dict_3)\n",
    "df_2.fillna(0,inplace = True) #fill all zero vals with 0"
   ]
  },
  {
   "cell_type": "code",
   "execution_count": 31,
   "metadata": {},
   "outputs": [
    {
     "name": "stdout",
     "output_type": "stream",
     "text": [
      "   one  two\n",
      "a  1.0    4\n",
      "b  2.0    5\n",
      "c  0.0    6\n"
     ]
    },
    {
     "data": {
      "text/html": [
       "<div>\n",
       "<style scoped>\n",
       "    .dataframe tbody tr th:only-of-type {\n",
       "        vertical-align: middle;\n",
       "    }\n",
       "\n",
       "    .dataframe tbody tr th {\n",
       "        vertical-align: top;\n",
       "    }\n",
       "\n",
       "    .dataframe thead th {\n",
       "        text-align: right;\n",
       "    }\n",
       "</style>\n",
       "<table border=\"1\" class=\"dataframe\">\n",
       "  <thead>\n",
       "    <tr style=\"text-align: right;\">\n",
       "      <th></th>\n",
       "      <th>one</th>\n",
       "      <th>two</th>\n",
       "    </tr>\n",
       "  </thead>\n",
       "  <tbody>\n",
       "    <tr>\n",
       "      <th>a</th>\n",
       "      <td>1.0</td>\n",
       "      <td>4</td>\n",
       "    </tr>\n",
       "    <tr>\n",
       "      <th>b</th>\n",
       "      <td>2.0</td>\n",
       "      <td>5</td>\n",
       "    </tr>\n",
       "    <tr>\n",
       "      <th>c</th>\n",
       "      <td>0.0</td>\n",
       "      <td>6</td>\n",
       "    </tr>\n",
       "  </tbody>\n",
       "</table>\n",
       "</div>"
      ],
      "text/plain": [
       "   one  two\n",
       "a  1.0    4\n",
       "b  2.0    5\n",
       "c  0.0    6"
      ]
     },
     "execution_count": 31,
     "metadata": {},
     "output_type": "execute_result"
    }
   ],
   "source": [
    "print(df_2)\n",
    "row_2 = df_2.iloc[1]\n",
    "df_2.add(row_2,axis ='columns')\n",
    "df_2"
   ]
  },
  {
   "cell_type": "code",
   "execution_count": 32,
   "metadata": {},
   "outputs": [
    {
     "name": "stdout",
     "output_type": "stream",
     "text": [
      "   one  two\n",
      "a  1.0    4\n",
      "b  2.0    5\n",
      "c  0.0    6\n"
     ]
    },
    {
     "data": {
      "text/plain": [
       "False"
      ]
     },
     "execution_count": 32,
     "metadata": {},
     "output_type": "execute_result"
    }
   ],
   "source": [
    "print(df_2)\n",
    "col_2 = df_2[\"two\"]\n",
    "df_2.sub(row_2,axis =0)\n",
    "df_2.empty"
   ]
  },
  {
   "cell_type": "code",
   "execution_count": 33,
   "metadata": {},
   "outputs": [
    {
     "data": {
      "text/html": [
       "<div>\n",
       "<style scoped>\n",
       "    .dataframe tbody tr th:only-of-type {\n",
       "        vertical-align: middle;\n",
       "    }\n",
       "\n",
       "    .dataframe tbody tr th {\n",
       "        vertical-align: top;\n",
       "    }\n",
       "\n",
       "    .dataframe thead th {\n",
       "        text-align: right;\n",
       "    }\n",
       "</style>\n",
       "<table border=\"1\" class=\"dataframe\">\n",
       "  <thead>\n",
       "    <tr style=\"text-align: right;\">\n",
       "      <th></th>\n",
       "      <th>A</th>\n",
       "      <th>B</th>\n",
       "    </tr>\n",
       "  </thead>\n",
       "  <tbody>\n",
       "    <tr>\n",
       "      <th>0</th>\n",
       "      <td>0</td>\n",
       "      <td>1</td>\n",
       "    </tr>\n",
       "    <tr>\n",
       "      <th>1</th>\n",
       "      <td>1</td>\n",
       "      <td>8</td>\n",
       "    </tr>\n",
       "    <tr>\n",
       "      <th>2</th>\n",
       "      <td>4</td>\n",
       "      <td>27</td>\n",
       "    </tr>\n",
       "  </tbody>\n",
       "</table>\n",
       "</div>"
      ],
      "text/plain": [
       "   A   B\n",
       "0  0   1\n",
       "1  1   8\n",
       "2  4  27"
      ]
     },
     "execution_count": 33,
     "metadata": {},
     "output_type": "execute_result"
    }
   ],
   "source": [
    "df_5 = pd.DataFrame({\"A\":range(3),\"B\":range(1,4)})\n",
    "df_5.transform(lambda x : x+ 1) #add one to each values\n",
    "df_5.transform({\"A\":lambda x: x**2,\"B\":lambda x: x ** 3})"
   ]
  },
  {
   "cell_type": "code",
   "execution_count": 34,
   "metadata": {},
   "outputs": [
    {
     "data": {
      "text/plain": [
       "0    0\n",
       "1    1\n",
       "2    4\n",
       "Name: A, dtype: int64"
      ]
     },
     "execution_count": 34,
     "metadata": {},
     "output_type": "execute_result"
    }
   ],
   "source": [
    "df_5[\"A\"].map(lambda x: x ** 2) # xhanging specific cols"
   ]
  },
  {
   "cell_type": "code",
   "execution_count": 35,
   "metadata": {},
   "outputs": [
    {
     "data": {
      "text/plain": [
       "array([1, 2, 3], dtype=int64)"
      ]
     },
     "execution_count": 35,
     "metadata": {},
     "output_type": "execute_result"
    }
   ],
   "source": [
    "df_5[\"B\"].unique() #unique vals in \"B\""
   ]
  },
  {
   "cell_type": "code",
   "execution_count": 36,
   "metadata": {},
   "outputs": [
    {
     "data": {
      "text/plain": [
       "<bound method IndexOpsMixin.value_counts of 0    1\n",
       "1    2\n",
       "2    3\n",
       "Name: B, dtype: int64>"
      ]
     },
     "execution_count": 36,
     "metadata": {},
     "output_type": "execute_result"
    }
   ],
   "source": [
    "df_5[\"B\"].nunique() #unique vals in \"B\" number \n",
    "df_5.columns\n",
    "df_5[\"B\"].value_counts"
   ]
  },
  {
   "cell_type": "markdown",
   "metadata": {},
   "source": [
    "Concatenate Join And Merge Data"
   ]
  },
  {
   "cell_type": "code",
   "execution_count": 37,
   "metadata": {},
   "outputs": [
    {
     "data": {
      "text/html": [
       "<div>\n",
       "<style scoped>\n",
       "    .dataframe tbody tr th:only-of-type {\n",
       "        vertical-align: middle;\n",
       "    }\n",
       "\n",
       "    .dataframe tbody tr th {\n",
       "        vertical-align: top;\n",
       "    }\n",
       "\n",
       "    .dataframe thead th {\n",
       "        text-align: right;\n",
       "    }\n",
       "</style>\n",
       "<table border=\"1\" class=\"dataframe\">\n",
       "  <thead>\n",
       "    <tr style=\"text-align: right;\">\n",
       "      <th></th>\n",
       "      <th>Sales</th>\n",
       "    </tr>\n",
       "    <tr>\n",
       "      <th>Store</th>\n",
       "      <th></th>\n",
       "    </tr>\n",
       "  </thead>\n",
       "  <tbody>\n",
       "    <tr>\n",
       "      <th>1</th>\n",
       "      <td>22</td>\n",
       "    </tr>\n",
       "    <tr>\n",
       "      <th>2</th>\n",
       "      <td>17</td>\n",
       "    </tr>\n",
       "  </tbody>\n",
       "</table>\n",
       "</div>"
      ],
      "text/plain": [
       "       Sales\n",
       "Store       \n",
       "1         22\n",
       "2         17"
      ]
     },
     "execution_count": 37,
     "metadata": {},
     "output_type": "execute_result"
    }
   ],
   "source": [
    "dict_5 = {\"Store\":[1,2,1,2],\"Flav\":[\"choc\",\"van\",\"stra\",\"bsoch\"],\"Sales\":\n",
    "         [26,12,18,22]}\n",
    "df_11 = pd.DataFrame(dict_5)\n",
    "by_store = df_11.groupby(\"Store\") #grouping data by store\n",
    "by_store.mean()"
   ]
  },
  {
   "cell_type": "code",
   "execution_count": 38,
   "metadata": {},
   "outputs": [
    {
     "data": {
      "text/plain": [
       "Sales    44\n",
       "Name: 1, dtype: int64"
      ]
     },
     "execution_count": 38,
     "metadata": {},
     "output_type": "execute_result"
    }
   ],
   "source": [
    "by_store.sum().loc[1] #store 1 sum"
   ]
  },
  {
   "cell_type": "code",
   "execution_count": 39,
   "metadata": {},
   "outputs": [
    {
     "data": {
      "text/html": [
       "<div>\n",
       "<style scoped>\n",
       "    .dataframe tbody tr th:only-of-type {\n",
       "        vertical-align: middle;\n",
       "    }\n",
       "\n",
       "    .dataframe tbody tr th {\n",
       "        vertical-align: top;\n",
       "    }\n",
       "\n",
       "    .dataframe thead tr th {\n",
       "        text-align: left;\n",
       "    }\n",
       "\n",
       "    .dataframe thead tr:last-of-type th {\n",
       "        text-align: right;\n",
       "    }\n",
       "</style>\n",
       "<table border=\"1\" class=\"dataframe\">\n",
       "  <thead>\n",
       "    <tr>\n",
       "      <th></th>\n",
       "      <th colspan=\"8\" halign=\"left\">Sales</th>\n",
       "    </tr>\n",
       "    <tr>\n",
       "      <th></th>\n",
       "      <th>count</th>\n",
       "      <th>mean</th>\n",
       "      <th>std</th>\n",
       "      <th>min</th>\n",
       "      <th>25%</th>\n",
       "      <th>50%</th>\n",
       "      <th>75%</th>\n",
       "      <th>max</th>\n",
       "    </tr>\n",
       "    <tr>\n",
       "      <th>Store</th>\n",
       "      <th></th>\n",
       "      <th></th>\n",
       "      <th></th>\n",
       "      <th></th>\n",
       "      <th></th>\n",
       "      <th></th>\n",
       "      <th></th>\n",
       "      <th></th>\n",
       "    </tr>\n",
       "  </thead>\n",
       "  <tbody>\n",
       "    <tr>\n",
       "      <th>1</th>\n",
       "      <td>2.0</td>\n",
       "      <td>22.0</td>\n",
       "      <td>5.656854</td>\n",
       "      <td>18.0</td>\n",
       "      <td>20.0</td>\n",
       "      <td>22.0</td>\n",
       "      <td>24.0</td>\n",
       "      <td>26.0</td>\n",
       "    </tr>\n",
       "    <tr>\n",
       "      <th>2</th>\n",
       "      <td>2.0</td>\n",
       "      <td>17.0</td>\n",
       "      <td>7.071068</td>\n",
       "      <td>12.0</td>\n",
       "      <td>14.5</td>\n",
       "      <td>17.0</td>\n",
       "      <td>19.5</td>\n",
       "      <td>22.0</td>\n",
       "    </tr>\n",
       "  </tbody>\n",
       "</table>\n",
       "</div>"
      ],
      "text/plain": [
       "      Sales                                              \n",
       "      count  mean       std   min   25%   50%   75%   max\n",
       "Store                                                    \n",
       "1       2.0  22.0  5.656854  18.0  20.0  22.0  24.0  26.0\n",
       "2       2.0  17.0  7.071068  12.0  14.5  17.0  19.5  22.0"
      ]
     },
     "execution_count": 39,
     "metadata": {},
     "output_type": "execute_result"
    }
   ],
   "source": [
    "by_store.describe() #all stat data "
   ]
  },
  {
   "cell_type": "markdown",
   "metadata": {},
   "source": [
    "Concatenate join and merge data"
   ]
  },
  {
   "cell_type": "code",
   "execution_count": 40,
   "metadata": {},
   "outputs": [
    {
     "data": {
      "text/html": [
       "<div>\n",
       "<style scoped>\n",
       "    .dataframe tbody tr th:only-of-type {\n",
       "        vertical-align: middle;\n",
       "    }\n",
       "\n",
       "    .dataframe tbody tr th {\n",
       "        vertical-align: top;\n",
       "    }\n",
       "\n",
       "    .dataframe thead th {\n",
       "        text-align: right;\n",
       "    }\n",
       "</style>\n",
       "<table border=\"1\" class=\"dataframe\">\n",
       "  <thead>\n",
       "    <tr style=\"text-align: right;\">\n",
       "      <th></th>\n",
       "      <th>A</th>\n",
       "      <th>B</th>\n",
       "    </tr>\n",
       "  </thead>\n",
       "  <tbody>\n",
       "    <tr>\n",
       "      <th>0</th>\n",
       "      <td>7</td>\n",
       "      <td>11</td>\n",
       "    </tr>\n",
       "    <tr>\n",
       "      <th>1</th>\n",
       "      <td>8</td>\n",
       "      <td>15</td>\n",
       "    </tr>\n",
       "    <tr>\n",
       "      <th>2</th>\n",
       "      <td>9</td>\n",
       "      <td>16</td>\n",
       "    </tr>\n",
       "    <tr>\n",
       "      <th>0</th>\n",
       "      <td>1</td>\n",
       "      <td>4</td>\n",
       "    </tr>\n",
       "    <tr>\n",
       "      <th>1</th>\n",
       "      <td>2</td>\n",
       "      <td>5</td>\n",
       "    </tr>\n",
       "    <tr>\n",
       "      <th>2</th>\n",
       "      <td>3</td>\n",
       "      <td>6</td>\n",
       "    </tr>\n",
       "  </tbody>\n",
       "</table>\n",
       "</div>"
      ],
      "text/plain": [
       "   A   B\n",
       "0  7  11\n",
       "1  8  15\n",
       "2  9  16\n",
       "0  1   4\n",
       "1  2   5\n",
       "2  3   6"
      ]
     },
     "execution_count": 40,
     "metadata": {},
     "output_type": "execute_result"
    }
   ],
   "source": [
    "df_11 = pd.DataFrame({\"A\":[1,2,3],\n",
    "                     \"B\":[4,5,6]})\n",
    "df_12 =  pd.DataFrame({\"A\":[7,8,9],\n",
    "                     \"B\":[11,15,16]})\n",
    "pd.concat([df_12,df_11]) #Concatenate two data frames"
   ]
  },
  {
   "cell_type": "code",
   "execution_count": 41,
   "metadata": {},
   "outputs": [
    {
     "data": {
      "text/html": [
       "<div>\n",
       "<style scoped>\n",
       "    .dataframe tbody tr th:only-of-type {\n",
       "        vertical-align: middle;\n",
       "    }\n",
       "\n",
       "    .dataframe tbody tr th {\n",
       "        vertical-align: top;\n",
       "    }\n",
       "\n",
       "    .dataframe thead th {\n",
       "        text-align: right;\n",
       "    }\n",
       "</style>\n",
       "<table border=\"1\" class=\"dataframe\">\n",
       "  <thead>\n",
       "    <tr style=\"text-align: right;\">\n",
       "      <th></th>\n",
       "      <th>A_x</th>\n",
       "      <th>B_x</th>\n",
       "      <th>key</th>\n",
       "      <th>A_y</th>\n",
       "      <th>B_y</th>\n",
       "    </tr>\n",
       "  </thead>\n",
       "  <tbody>\n",
       "    <tr>\n",
       "      <th>0</th>\n",
       "      <td>7</td>\n",
       "      <td>11</td>\n",
       "      <td>1</td>\n",
       "      <td>7</td>\n",
       "      <td>11</td>\n",
       "    </tr>\n",
       "    <tr>\n",
       "      <th>1</th>\n",
       "      <td>8</td>\n",
       "      <td>15</td>\n",
       "      <td>2</td>\n",
       "      <td>8</td>\n",
       "      <td>15</td>\n",
       "    </tr>\n",
       "    <tr>\n",
       "      <th>2</th>\n",
       "      <td>9</td>\n",
       "      <td>16</td>\n",
       "      <td>3</td>\n",
       "      <td>9</td>\n",
       "      <td>16</td>\n",
       "    </tr>\n",
       "  </tbody>\n",
       "</table>\n",
       "</div>"
      ],
      "text/plain": [
       "   A_x  B_x  key  A_y  B_y\n",
       "0    7   11    1    7   11\n",
       "1    8   15    2    8   15\n",
       "2    9   16    3    9   16"
      ]
     },
     "execution_count": 41,
     "metadata": {},
     "output_type": "execute_result"
    }
   ],
   "source": [
    "df_13 =  pd.DataFrame({\"A\":[7,8,9],\n",
    "                     \"B\":[11,15,16],\n",
    "                      \"key\":[1,2,3]})\n",
    "df_14 =  pd.DataFrame({\"A\":[17,18,91],\n",
    "                     \"B\":[111,115,161],\n",
    "                      \"key\":[1,2,3]})\n",
    "pd.merge(df_13,df_13,how=\"inner\",on=\"key\")"
   ]
  },
  {
   "cell_type": "markdown",
   "metadata": {},
   "source": [
    "Statistics"
   ]
  },
  {
   "cell_type": "code",
   "execution_count": 42,
   "metadata": {},
   "outputs": [
    {
     "data": {
      "text/html": [
       "<div>\n",
       "<style scoped>\n",
       "    .dataframe tbody tr th:only-of-type {\n",
       "        vertical-align: middle;\n",
       "    }\n",
       "\n",
       "    .dataframe tbody tr th {\n",
       "        vertical-align: top;\n",
       "    }\n",
       "\n",
       "    .dataframe thead th {\n",
       "        text-align: right;\n",
       "    }\n",
       "</style>\n",
       "<table border=\"1\" class=\"dataframe\">\n",
       "  <thead>\n",
       "    <tr style=\"text-align: right;\">\n",
       "      <th></th>\n",
       "      <th>Temperature</th>\n",
       "      <th>Sales</th>\n",
       "    </tr>\n",
       "  </thead>\n",
       "  <tbody>\n",
       "    <tr>\n",
       "      <th>0</th>\n",
       "      <td>37</td>\n",
       "      <td>292</td>\n",
       "    </tr>\n",
       "    <tr>\n",
       "      <th>1</th>\n",
       "      <td>40</td>\n",
       "      <td>228</td>\n",
       "    </tr>\n",
       "    <tr>\n",
       "      <th>2</th>\n",
       "      <td>49</td>\n",
       "      <td>324</td>\n",
       "    </tr>\n",
       "    <tr>\n",
       "      <th>3</th>\n",
       "      <td>61</td>\n",
       "      <td>376</td>\n",
       "    </tr>\n",
       "    <tr>\n",
       "      <th>4</th>\n",
       "      <td>72</td>\n",
       "      <td>440</td>\n",
       "    </tr>\n",
       "  </tbody>\n",
       "</table>\n",
       "</div>"
      ],
      "text/plain": [
       "   Temperature  Sales\n",
       "0           37    292\n",
       "1           40    228\n",
       "2           49    324\n",
       "3           61    376\n",
       "4           72    440"
      ]
     },
     "execution_count": 42,
     "metadata": {},
     "output_type": "execute_result"
    }
   ],
   "source": [
    "ice = pd.read_csv(r\"C:\\Users\\amand\\Desktop\\cpp_practice\\ice.csv\")\n",
    "ice.head()"
   ]
  },
  {
   "cell_type": "code",
   "execution_count": 43,
   "metadata": {},
   "outputs": [
    {
     "data": {
      "text/plain": [
       "Temperature    12\n",
       "Sales          12\n",
       "dtype: int64"
      ]
     },
     "execution_count": 43,
     "metadata": {},
     "output_type": "execute_result"
    }
   ],
   "source": [
    "ice.count()"
   ]
  },
  {
   "cell_type": "code",
   "execution_count": 44,
   "metadata": {},
   "outputs": [
    {
     "data": {
      "text/plain": [
       "Temperature     734\n",
       "Sales          4800\n",
       "dtype: int64"
      ]
     },
     "execution_count": 44,
     "metadata": {},
     "output_type": "execute_result"
    }
   ],
   "source": [
    "ice.sum(skipna = True)"
   ]
  },
  {
   "cell_type": "code",
   "execution_count": 45,
   "metadata": {},
   "outputs": [
    {
     "data": {
      "text/plain": [
       "0    324\n",
       "1    496\n",
       "dtype: int64"
      ]
     },
     "execution_count": 45,
     "metadata": {},
     "output_type": "execute_result"
    }
   ],
   "source": [
    "ice[\"Sales\"].mean()\n",
    "ice[\"Sales\"].median()\n",
    "ice[\"Sales\"].mode()"
   ]
  },
  {
   "cell_type": "code",
   "execution_count": 46,
   "metadata": {},
   "outputs": [
    {
     "data": {
      "text/plain": [
       "556"
      ]
     },
     "execution_count": 46,
     "metadata": {},
     "output_type": "execute_result"
    }
   ],
   "source": [
    "ice[\"Sales\"].max()"
   ]
  },
  {
   "cell_type": "code",
   "execution_count": 47,
   "metadata": {},
   "outputs": [
    {
     "data": {
      "text/plain": [
       "228"
      ]
     },
     "execution_count": 47,
     "metadata": {},
     "output_type": "execute_result"
    }
   ],
   "source": [
    "ice[\"Sales\"].min()"
   ]
  },
  {
   "cell_type": "code",
   "execution_count": 48,
   "metadata": {},
   "outputs": [
    {
     "data": {
      "text/plain": [
       "4582080946295013376"
      ]
     },
     "execution_count": 48,
     "metadata": {},
     "output_type": "execute_result"
    }
   ],
   "source": [
    "ice[\"Sales\"].product() "
   ]
  },
  {
   "cell_type": "code",
   "execution_count": 49,
   "metadata": {},
   "outputs": [
    {
     "data": {
      "text/plain": [
       "105.65122724408751"
      ]
     },
     "execution_count": 49,
     "metadata": {},
     "output_type": "execute_result"
    }
   ],
   "source": [
    "ice[\"Sales\"].std()"
   ]
  },
  {
   "cell_type": "code",
   "execution_count": 50,
   "metadata": {},
   "outputs": [
    {
     "data": {
      "text/plain": [
       "11162.181818181818"
      ]
     },
     "execution_count": 50,
     "metadata": {},
     "output_type": "execute_result"
    }
   ],
   "source": [
    "ice[\"Sales\"].var()"
   ]
  },
  {
   "cell_type": "code",
   "execution_count": 51,
   "metadata": {},
   "outputs": [
    {
     "data": {
      "text/plain": [
       "0.036552031682046925"
      ]
     },
     "execution_count": 51,
     "metadata": {},
     "output_type": "execute_result"
    }
   ],
   "source": [
    "ice[\"Sales\"].skew() #skewness on graph"
   ]
  },
  {
   "cell_type": "code",
   "execution_count": 52,
   "metadata": {},
   "outputs": [
    {
     "data": {
      "text/plain": [
       "0      292\n",
       "1      520\n",
       "2      844\n",
       "3     1220\n",
       "4     1660\n",
       "5     2156\n",
       "6     2692\n",
       "7     3248\n",
       "8     3744\n",
       "9     4156\n",
       "10    4480\n",
       "11    4800\n",
       "Name: Sales, dtype: int64"
      ]
     },
     "execution_count": 52,
     "metadata": {},
     "output_type": "execute_result"
    }
   ],
   "source": [
    "ice[\"Sales\"].cumsum() #slly cumprod() , cummin()"
   ]
  },
  {
   "cell_type": "code",
   "execution_count": 53,
   "metadata": {},
   "outputs": [
    {
     "data": {
      "text/plain": [
       "7     6\n",
       "8     5\n",
       "6     5\n",
       "9     4\n",
       "5     4\n",
       "10    3\n",
       "4     3\n",
       "11    2\n",
       "3     2\n",
       "12    1\n",
       "2     1\n",
       "dtype: int64"
      ]
     },
     "execution_count": 53,
     "metadata": {},
     "output_type": "execute_result"
    }
   ],
   "source": [
    "se = pd.Series(data=[2, 3, 3, 4, 4, 4, 5, 5, 5, 5, 6, 6, \n",
    "                           6, 6, 6, 7, 7, 7, 7, 7, 7, 8, 8, 8,\n",
    "                          8, 8, 9, 9, 9, 9, 10, 10, 10, 11, 11, 12])\n",
    "se.value_counts()"
   ]
  },
  {
   "cell_type": "markdown",
   "metadata": {},
   "source": [
    "Iteration"
   ]
  },
  {
   "cell_type": "code",
   "execution_count": 54,
   "metadata": {},
   "outputs": [],
   "source": [
    "ser_7 = pd.Series(range(5), index=['a', 'b', 'c', 'd', 'e'])\n",
    "arr_4 = np.random.randint(10, 50, size=(2, 3))\n",
    "df_8 = pd.DataFrame(arr_4, ['B', 'C'], ['C', 'D', 'E'])"
   ]
  },
  {
   "cell_type": "code",
   "execution_count": 55,
   "metadata": {},
   "outputs": [
    {
     "name": "stdout",
     "output_type": "stream",
     "text": [
      "0\n",
      "1\n",
      "2\n",
      "3\n",
      "4\n"
     ]
    }
   ],
   "source": [
    "for col in ser_7:\n",
    "    print(col)"
   ]
  },
  {
   "cell_type": "code",
   "execution_count": 56,
   "metadata": {},
   "outputs": [
    {
     "name": "stdout",
     "output_type": "stream",
     "text": [
      "C :  B    22\n",
      "C    43\n",
      "Name: C, dtype: int32\n",
      "D :  B    43\n",
      "C    11\n",
      "Name: D, dtype: int32\n",
      "E :  B    23\n",
      "C    47\n",
      "Name: E, dtype: int32\n"
     ]
    }
   ],
   "source": [
    "for x,y in df_8.items():\n",
    "    print(x , \": \" , y)"
   ]
  },
  {
   "cell_type": "markdown",
   "metadata": {},
   "source": [
    "Sorting"
   ]
  },
  {
   "cell_type": "code",
   "execution_count": 57,
   "metadata": {},
   "outputs": [
    {
     "name": "stdout",
     "output_type": "stream",
     "text": [
      "    C   D   E\n",
      "B  22  43  23\n",
      "C  43  11  47\n"
     ]
    },
    {
     "data": {
      "text/html": [
       "<div>\n",
       "<style scoped>\n",
       "    .dataframe tbody tr th:only-of-type {\n",
       "        vertical-align: middle;\n",
       "    }\n",
       "\n",
       "    .dataframe tbody tr th {\n",
       "        vertical-align: top;\n",
       "    }\n",
       "\n",
       "    .dataframe thead th {\n",
       "        text-align: right;\n",
       "    }\n",
       "</style>\n",
       "<table border=\"1\" class=\"dataframe\">\n",
       "  <thead>\n",
       "    <tr style=\"text-align: right;\">\n",
       "      <th></th>\n",
       "      <th>C</th>\n",
       "      <th>D</th>\n",
       "      <th>E</th>\n",
       "    </tr>\n",
       "  </thead>\n",
       "  <tbody>\n",
       "    <tr>\n",
       "      <th>C</th>\n",
       "      <td>43</td>\n",
       "      <td>11</td>\n",
       "      <td>47</td>\n",
       "    </tr>\n",
       "    <tr>\n",
       "      <th>B</th>\n",
       "      <td>22</td>\n",
       "      <td>43</td>\n",
       "      <td>23</td>\n",
       "    </tr>\n",
       "  </tbody>\n",
       "</table>\n",
       "</div>"
      ],
      "text/plain": [
       "    C   D   E\n",
       "C  43  11  47\n",
       "B  22  43  23"
      ]
     },
     "execution_count": 57,
     "metadata": {},
     "output_type": "execute_result"
    }
   ],
   "source": [
    "print(df_8)\n",
    "df_8.sort_index(ascending=False)"
   ]
  },
  {
   "cell_type": "code",
   "execution_count": 58,
   "metadata": {},
   "outputs": [
    {
     "name": "stdout",
     "output_type": "stream",
     "text": [
      "    C   D   E\n",
      "B  22  43  23\n",
      "C  43  11  47\n"
     ]
    },
    {
     "data": {
      "text/html": [
       "<div>\n",
       "<style scoped>\n",
       "    .dataframe tbody tr th:only-of-type {\n",
       "        vertical-align: middle;\n",
       "    }\n",
       "\n",
       "    .dataframe tbody tr th {\n",
       "        vertical-align: top;\n",
       "    }\n",
       "\n",
       "    .dataframe thead th {\n",
       "        text-align: right;\n",
       "    }\n",
       "</style>\n",
       "<table border=\"1\" class=\"dataframe\">\n",
       "  <thead>\n",
       "    <tr style=\"text-align: right;\">\n",
       "      <th></th>\n",
       "      <th>C</th>\n",
       "      <th>D</th>\n",
       "      <th>E</th>\n",
       "    </tr>\n",
       "  </thead>\n",
       "  <tbody>\n",
       "    <tr>\n",
       "      <th>C</th>\n",
       "      <td>43</td>\n",
       "      <td>11</td>\n",
       "      <td>47</td>\n",
       "    </tr>\n",
       "    <tr>\n",
       "      <th>B</th>\n",
       "      <td>22</td>\n",
       "      <td>43</td>\n",
       "      <td>23</td>\n",
       "    </tr>\n",
       "  </tbody>\n",
       "</table>\n",
       "</div>"
      ],
      "text/plain": [
       "    C   D   E\n",
       "C  43  11  47\n",
       "B  22  43  23"
      ]
     },
     "execution_count": 58,
     "metadata": {},
     "output_type": "execute_result"
    }
   ],
   "source": [
    "print(df_8)\n",
    "df_8.sort_values(by = \"D\")"
   ]
  },
  {
   "cell_type": "markdown",
   "metadata": {},
   "source": [
    "Passing data to functions"
   ]
  },
  {
   "cell_type": "code",
   "execution_count": 59,
   "metadata": {},
   "outputs": [
    {
     "data": {
      "text/plain": [
       "5459.010000000001"
      ]
     },
     "execution_count": 59,
     "metadata": {},
     "output_type": "execute_result"
    }
   ],
   "source": [
    "import sys\n",
    "def total_pro(cs_df):\n",
    "    prof = 0\n",
    "    prof += cs_df[\"Profit\"]\n",
    "    return prof\n",
    "total_pro(df).sum()"
   ]
  },
  {
   "cell_type": "code",
   "execution_count": 60,
   "metadata": {},
   "outputs": [],
   "source": [
    "def split_name(cs_df):\n",
    "    name = \"\"\n",
    "    def get_name(Contact):\n",
    "        name = Contact.split(\" \")\n",
    "        return name\n",
    "split_name(df)"
   ]
  },
  {
   "cell_type": "markdown",
   "metadata": {},
   "source": [
    "Align , Reindex and renaming Labels"
   ]
  },
  {
   "cell_type": "code",
   "execution_count": 64,
   "metadata": {},
   "outputs": [
    {
     "name": "stdout",
     "output_type": "stream",
     "text": [
      "a    0\n",
      "b    1\n",
      "c    2\n",
      "d    3\n",
      "dtype: int64\n",
      "b    1\n",
      "c    2\n",
      "d    3\n",
      "e    4\n",
      "dtype: int64\n"
     ]
    },
    {
     "data": {
      "text/plain": [
       "(a    0.0\n",
       " b    1.0\n",
       " c    2.0\n",
       " d    3.0\n",
       " e    NaN\n",
       " dtype: float64,\n",
       " a    NaN\n",
       " b    1.0\n",
       " c    2.0\n",
       " d    3.0\n",
       " e    4.0\n",
       " dtype: float64)"
      ]
     },
     "execution_count": 64,
     "metadata": {},
     "output_type": "execute_result"
    }
   ],
   "source": [
    "arr_6 = pd.Series(range(5),index= ['a','b','c','d','e'])\n",
    "s1_1= arr_6[:4]\n",
    "s2_2 = arr_6[1:]\n",
    "print(s1_1)\n",
    "print(s2_2)\n",
    "s1_1.align(s2_2)"
   ]
  },
  {
   "cell_type": "code",
   "execution_count": 65,
   "metadata": {},
   "outputs": [
    {
     "data": {
      "text/plain": [
       "(b    1\n",
       " c    2\n",
       " d    3\n",
       " dtype: int64,\n",
       " b    1\n",
       " c    2\n",
       " d    3\n",
       " dtype: int64)"
      ]
     },
     "execution_count": 65,
     "metadata": {},
     "output_type": "execute_result"
    }
   ],
   "source": [
    "s1_1.align(s2_2,join = \"inner\")"
   ]
  },
  {
   "cell_type": "markdown",
   "metadata": {},
   "source": [
    "Multindex"
   ]
  },
  {
   "cell_type": "code",
   "execution_count": 71,
   "metadata": {},
   "outputs": [
    {
     "data": {
      "text/html": [
       "<div>\n",
       "<style scoped>\n",
       "    .dataframe tbody tr th:only-of-type {\n",
       "        vertical-align: middle;\n",
       "    }\n",
       "\n",
       "    .dataframe tbody tr th {\n",
       "        vertical-align: top;\n",
       "    }\n",
       "\n",
       "    .dataframe thead th {\n",
       "        text-align: right;\n",
       "    }\n",
       "</style>\n",
       "<table border=\"1\" class=\"dataframe\">\n",
       "  <thead>\n",
       "    <tr style=\"text-align: right;\">\n",
       "      <th></th>\n",
       "      <th></th>\n",
       "      <th>M</th>\n",
       "      <th>F</th>\n",
       "    </tr>\n",
       "  </thead>\n",
       "  <tbody>\n",
       "    <tr>\n",
       "      <th rowspan=\"3\" valign=\"top\">Day1</th>\n",
       "      <th>1</th>\n",
       "      <td>655</td>\n",
       "      <td>503</td>\n",
       "    </tr>\n",
       "    <tr>\n",
       "      <th>2</th>\n",
       "      <td>514</td>\n",
       "      <td>678</td>\n",
       "    </tr>\n",
       "    <tr>\n",
       "      <th>3</th>\n",
       "      <td>647</td>\n",
       "      <td>656</td>\n",
       "    </tr>\n",
       "    <tr>\n",
       "      <th rowspan=\"3\" valign=\"top\">Day2</th>\n",
       "      <th>1</th>\n",
       "      <td>520</td>\n",
       "      <td>684</td>\n",
       "    </tr>\n",
       "    <tr>\n",
       "      <th>2</th>\n",
       "      <td>544</td>\n",
       "      <td>546</td>\n",
       "    </tr>\n",
       "    <tr>\n",
       "      <th>3</th>\n",
       "      <td>638</td>\n",
       "      <td>585</td>\n",
       "    </tr>\n",
       "  </tbody>\n",
       "</table>\n",
       "</div>"
      ],
      "text/plain": [
       "          M    F\n",
       "Day1 1  655  503\n",
       "     2  514  678\n",
       "     3  647  656\n",
       "Day2 1  520  684\n",
       "     2  544  546\n",
       "     3  638  585"
      ]
     },
     "execution_count": 71,
     "metadata": {},
     "output_type": "execute_result"
    }
   ],
   "source": [
    "days = ['Day1','Day1','Day1','Day2','Day2','Day2']\n",
    "meals = [1,2,3,1,2,3]\n",
    "heir_index = list(zip(days,meals))\n",
    "heir_index = pd.MultiIndex.from_tuples(heir_index)\n",
    "arr = np.random.randint(500,700,size = (6,2))\n",
    "df_9 = pd.DataFrame(arr,heir_index,[\"M\",\"F\"])\n",
    "df_9"
   ]
  },
  {
   "cell_type": "code",
   "execution_count": 75,
   "metadata": {},
   "outputs": [
    {
     "data": {
      "text/plain": [
       "M    655\n",
       "F    503\n",
       "Name: 1, dtype: int32"
      ]
     },
     "execution_count": 75,
     "metadata": {},
     "output_type": "execute_result"
    }
   ],
   "source": [
    "df_9.loc[\"Day1\"].loc[1]"
   ]
  },
  {
   "cell_type": "code",
   "execution_count": 87,
   "metadata": {},
   "outputs": [
    {
     "data": {
      "text/plain": [
       "503"
      ]
     },
     "execution_count": 87,
     "metadata": {},
     "output_type": "execute_result"
    }
   ],
   "source": [
    "df_9.loc[\"Day1\"].loc[1][\"F\"]"
   ]
  },
  {
   "cell_type": "code",
   "execution_count": 88,
   "metadata": {},
   "outputs": [
    {
     "data": {
      "text/html": [
       "<div>\n",
       "<style scoped>\n",
       "    .dataframe tbody tr th:only-of-type {\n",
       "        vertical-align: middle;\n",
       "    }\n",
       "\n",
       "    .dataframe tbody tr th {\n",
       "        vertical-align: top;\n",
       "    }\n",
       "\n",
       "    .dataframe thead th {\n",
       "        text-align: right;\n",
       "    }\n",
       "</style>\n",
       "<table border=\"1\" class=\"dataframe\">\n",
       "  <thead>\n",
       "    <tr style=\"text-align: right;\">\n",
       "      <th></th>\n",
       "      <th></th>\n",
       "      <th>M</th>\n",
       "      <th>F</th>\n",
       "    </tr>\n",
       "    <tr>\n",
       "      <th>Day</th>\n",
       "      <th>Meal</th>\n",
       "      <th></th>\n",
       "      <th></th>\n",
       "    </tr>\n",
       "  </thead>\n",
       "  <tbody>\n",
       "    <tr>\n",
       "      <th rowspan=\"3\" valign=\"top\">Day1</th>\n",
       "      <th>1</th>\n",
       "      <td>655</td>\n",
       "      <td>503</td>\n",
       "    </tr>\n",
       "    <tr>\n",
       "      <th>2</th>\n",
       "      <td>514</td>\n",
       "      <td>678</td>\n",
       "    </tr>\n",
       "    <tr>\n",
       "      <th>3</th>\n",
       "      <td>647</td>\n",
       "      <td>656</td>\n",
       "    </tr>\n",
       "    <tr>\n",
       "      <th rowspan=\"3\" valign=\"top\">Day2</th>\n",
       "      <th>1</th>\n",
       "      <td>520</td>\n",
       "      <td>684</td>\n",
       "    </tr>\n",
       "    <tr>\n",
       "      <th>2</th>\n",
       "      <td>544</td>\n",
       "      <td>546</td>\n",
       "    </tr>\n",
       "    <tr>\n",
       "      <th>3</th>\n",
       "      <td>638</td>\n",
       "      <td>585</td>\n",
       "    </tr>\n",
       "  </tbody>\n",
       "</table>\n",
       "</div>"
      ],
      "text/plain": [
       "             M    F\n",
       "Day  Meal          \n",
       "Day1 1     655  503\n",
       "     2     514  678\n",
       "     3     647  656\n",
       "Day2 1     520  684\n",
       "     2     544  546\n",
       "     3     638  585"
      ]
     },
     "execution_count": 88,
     "metadata": {},
     "output_type": "execute_result"
    }
   ],
   "source": [
    "#df_9.index.names = [\"Day\",\"Meal\"]\n",
    "df_9"
   ]
  },
  {
   "cell_type": "code",
   "execution_count": 89,
   "metadata": {},
   "outputs": [
    {
     "data": {
      "text/html": [
       "<div>\n",
       "<style scoped>\n",
       "    .dataframe tbody tr th:only-of-type {\n",
       "        vertical-align: middle;\n",
       "    }\n",
       "\n",
       "    .dataframe tbody tr th {\n",
       "        vertical-align: top;\n",
       "    }\n",
       "\n",
       "    .dataframe thead th {\n",
       "        text-align: right;\n",
       "    }\n",
       "</style>\n",
       "<table border=\"1\" class=\"dataframe\">\n",
       "  <thead>\n",
       "    <tr style=\"text-align: right;\">\n",
       "      <th></th>\n",
       "      <th>M</th>\n",
       "      <th>F</th>\n",
       "    </tr>\n",
       "    <tr>\n",
       "      <th>Meal</th>\n",
       "      <th></th>\n",
       "      <th></th>\n",
       "    </tr>\n",
       "  </thead>\n",
       "  <tbody>\n",
       "    <tr>\n",
       "      <th>1</th>\n",
       "      <td>520</td>\n",
       "      <td>684</td>\n",
       "    </tr>\n",
       "    <tr>\n",
       "      <th>2</th>\n",
       "      <td>544</td>\n",
       "      <td>546</td>\n",
       "    </tr>\n",
       "    <tr>\n",
       "      <th>3</th>\n",
       "      <td>638</td>\n",
       "      <td>585</td>\n",
       "    </tr>\n",
       "  </tbody>\n",
       "</table>\n",
       "</div>"
      ],
      "text/plain": [
       "        M    F\n",
       "Meal          \n",
       "1     520  684\n",
       "2     544  546\n",
       "3     638  585"
      ]
     },
     "execution_count": 89,
     "metadata": {},
     "output_type": "execute_result"
    }
   ],
   "source": [
    "df_9.xs(\"Day2\") #gives day2 data"
   ]
  },
  {
   "cell_type": "markdown",
   "metadata": {},
   "source": [
    "HAndling missing data"
   ]
  },
  {
   "cell_type": "code",
   "execution_count": 90,
   "metadata": {},
   "outputs": [
    {
     "data": {
      "text/html": [
       "<div>\n",
       "<style scoped>\n",
       "    .dataframe tbody tr th:only-of-type {\n",
       "        vertical-align: middle;\n",
       "    }\n",
       "\n",
       "    .dataframe tbody tr th {\n",
       "        vertical-align: top;\n",
       "    }\n",
       "\n",
       "    .dataframe thead th {\n",
       "        text-align: right;\n",
       "    }\n",
       "</style>\n",
       "<table border=\"1\" class=\"dataframe\">\n",
       "  <thead>\n",
       "    <tr style=\"text-align: right;\">\n",
       "      <th></th>\n",
       "      <th>A</th>\n",
       "      <th>B</th>\n",
       "      <th>C</th>\n",
       "    </tr>\n",
       "  </thead>\n",
       "  <tbody>\n",
       "    <tr>\n",
       "      <th>0</th>\n",
       "      <td>1.0</td>\n",
       "      <td>4.0</td>\n",
       "      <td>7</td>\n",
       "    </tr>\n",
       "    <tr>\n",
       "      <th>1</th>\n",
       "      <td>2.0</td>\n",
       "      <td>NaN</td>\n",
       "      <td>8</td>\n",
       "    </tr>\n",
       "    <tr>\n",
       "      <th>2</th>\n",
       "      <td>NaN</td>\n",
       "      <td>NaN</td>\n",
       "      <td>9</td>\n",
       "    </tr>\n",
       "  </tbody>\n",
       "</table>\n",
       "</div>"
      ],
      "text/plain": [
       "     A    B  C\n",
       "0  1.0  4.0  7\n",
       "1  2.0  NaN  8\n",
       "2  NaN  NaN  9"
      ]
     },
     "execution_count": 90,
     "metadata": {},
     "output_type": "execute_result"
    }
   ],
   "source": [
    "dict = {\"A\":[1,2,np.nan],\"B\":[4,np.nan,np.nan],\"C\":[7,8,9]}\n",
    "df_10 = pd.DataFrame(dict)\n",
    "df_10"
   ]
  },
  {
   "cell_type": "code",
   "execution_count": 92,
   "metadata": {},
   "outputs": [
    {
     "data": {
      "text/html": [
       "<div>\n",
       "<style scoped>\n",
       "    .dataframe tbody tr th:only-of-type {\n",
       "        vertical-align: middle;\n",
       "    }\n",
       "\n",
       "    .dataframe tbody tr th {\n",
       "        vertical-align: top;\n",
       "    }\n",
       "\n",
       "    .dataframe thead th {\n",
       "        text-align: right;\n",
       "    }\n",
       "</style>\n",
       "<table border=\"1\" class=\"dataframe\">\n",
       "  <thead>\n",
       "    <tr style=\"text-align: right;\">\n",
       "      <th></th>\n",
       "      <th>A</th>\n",
       "      <th>B</th>\n",
       "      <th>C</th>\n",
       "    </tr>\n",
       "  </thead>\n",
       "  <tbody>\n",
       "    <tr>\n",
       "      <th>0</th>\n",
       "      <td>1.0</td>\n",
       "      <td>4.0</td>\n",
       "      <td>7</td>\n",
       "    </tr>\n",
       "  </tbody>\n",
       "</table>\n",
       "</div>"
      ],
      "text/plain": [
       "     A    B  C\n",
       "0  1.0  4.0  7"
      ]
     },
     "execution_count": 92,
     "metadata": {},
     "output_type": "execute_result"
    }
   ],
   "source": [
    "df_10.dropna() #drop rows having na "
   ]
  },
  {
   "cell_type": "code",
   "execution_count": 93,
   "metadata": {},
   "outputs": [
    {
     "data": {
      "text/html": [
       "<div>\n",
       "<style scoped>\n",
       "    .dataframe tbody tr th:only-of-type {\n",
       "        vertical-align: middle;\n",
       "    }\n",
       "\n",
       "    .dataframe tbody tr th {\n",
       "        vertical-align: top;\n",
       "    }\n",
       "\n",
       "    .dataframe thead th {\n",
       "        text-align: right;\n",
       "    }\n",
       "</style>\n",
       "<table border=\"1\" class=\"dataframe\">\n",
       "  <thead>\n",
       "    <tr style=\"text-align: right;\">\n",
       "      <th></th>\n",
       "      <th>C</th>\n",
       "    </tr>\n",
       "  </thead>\n",
       "  <tbody>\n",
       "    <tr>\n",
       "      <th>0</th>\n",
       "      <td>7</td>\n",
       "    </tr>\n",
       "    <tr>\n",
       "      <th>1</th>\n",
       "      <td>8</td>\n",
       "    </tr>\n",
       "    <tr>\n",
       "      <th>2</th>\n",
       "      <td>9</td>\n",
       "    </tr>\n",
       "  </tbody>\n",
       "</table>\n",
       "</div>"
      ],
      "text/plain": [
       "   C\n",
       "0  7\n",
       "1  8\n",
       "2  9"
      ]
     },
     "execution_count": 93,
     "metadata": {},
     "output_type": "execute_result"
    }
   ],
   "source": [
    "df_10.dropna(axis = 1) #drop na columns"
   ]
  },
  {
   "cell_type": "code",
   "execution_count": 96,
   "metadata": {},
   "outputs": [
    {
     "data": {
      "text/html": [
       "<div>\n",
       "<style scoped>\n",
       "    .dataframe tbody tr th:only-of-type {\n",
       "        vertical-align: middle;\n",
       "    }\n",
       "\n",
       "    .dataframe tbody tr th {\n",
       "        vertical-align: top;\n",
       "    }\n",
       "\n",
       "    .dataframe thead th {\n",
       "        text-align: right;\n",
       "    }\n",
       "</style>\n",
       "<table border=\"1\" class=\"dataframe\">\n",
       "  <thead>\n",
       "    <tr style=\"text-align: right;\">\n",
       "      <th></th>\n",
       "      <th>A</th>\n",
       "      <th>B</th>\n",
       "      <th>C</th>\n",
       "    </tr>\n",
       "  </thead>\n",
       "  <tbody>\n",
       "    <tr>\n",
       "      <th>0</th>\n",
       "      <td>1.0</td>\n",
       "      <td>4.0</td>\n",
       "      <td>7</td>\n",
       "    </tr>\n",
       "    <tr>\n",
       "      <th>1</th>\n",
       "      <td>2.0</td>\n",
       "      <td>NaN</td>\n",
       "      <td>8</td>\n",
       "    </tr>\n",
       "  </tbody>\n",
       "</table>\n",
       "</div>"
      ],
      "text/plain": [
       "     A    B  C\n",
       "0  1.0  4.0  7\n",
       "1  2.0  NaN  8"
      ]
     },
     "execution_count": 96,
     "metadata": {},
     "output_type": "execute_result"
    }
   ],
   "source": [
    "df_10.dropna(thresh = 2) #drop rows with 2 na vals"
   ]
  },
  {
   "cell_type": "code",
   "execution_count": 97,
   "metadata": {},
   "outputs": [
    {
     "data": {
      "text/html": [
       "<div>\n",
       "<style scoped>\n",
       "    .dataframe tbody tr th:only-of-type {\n",
       "        vertical-align: middle;\n",
       "    }\n",
       "\n",
       "    .dataframe tbody tr th {\n",
       "        vertical-align: top;\n",
       "    }\n",
       "\n",
       "    .dataframe thead th {\n",
       "        text-align: right;\n",
       "    }\n",
       "</style>\n",
       "<table border=\"1\" class=\"dataframe\">\n",
       "  <thead>\n",
       "    <tr style=\"text-align: right;\">\n",
       "      <th></th>\n",
       "      <th>A</th>\n",
       "      <th>B</th>\n",
       "      <th>C</th>\n",
       "    </tr>\n",
       "  </thead>\n",
       "  <tbody>\n",
       "    <tr>\n",
       "      <th>0</th>\n",
       "      <td>1.0</td>\n",
       "      <td>4.0</td>\n",
       "      <td>7</td>\n",
       "    </tr>\n",
       "    <tr>\n",
       "      <th>1</th>\n",
       "      <td>2.0</td>\n",
       "      <td>0.0</td>\n",
       "      <td>8</td>\n",
       "    </tr>\n",
       "    <tr>\n",
       "      <th>2</th>\n",
       "      <td>0.0</td>\n",
       "      <td>0.0</td>\n",
       "      <td>9</td>\n",
       "    </tr>\n",
       "  </tbody>\n",
       "</table>\n",
       "</div>"
      ],
      "text/plain": [
       "     A    B  C\n",
       "0  1.0  4.0  7\n",
       "1  2.0  0.0  8\n",
       "2  0.0  0.0  9"
      ]
     },
     "execution_count": 97,
     "metadata": {},
     "output_type": "execute_result"
    }
   ],
   "source": [
    "df_10.fillna(value=0) #filling na with 0"
   ]
  },
  {
   "cell_type": "code",
   "execution_count": 98,
   "metadata": {},
   "outputs": [
    {
     "data": {
      "text/html": [
       "<div>\n",
       "<style scoped>\n",
       "    .dataframe tbody tr th:only-of-type {\n",
       "        vertical-align: middle;\n",
       "    }\n",
       "\n",
       "    .dataframe tbody tr th {\n",
       "        vertical-align: top;\n",
       "    }\n",
       "\n",
       "    .dataframe thead th {\n",
       "        text-align: right;\n",
       "    }\n",
       "</style>\n",
       "<table border=\"1\" class=\"dataframe\">\n",
       "  <thead>\n",
       "    <tr style=\"text-align: right;\">\n",
       "      <th></th>\n",
       "      <th>A</th>\n",
       "      <th>B</th>\n",
       "      <th>C</th>\n",
       "    </tr>\n",
       "  </thead>\n",
       "  <tbody>\n",
       "    <tr>\n",
       "      <th>0</th>\n",
       "      <td>1.0</td>\n",
       "      <td>4.0</td>\n",
       "      <td>7</td>\n",
       "    </tr>\n",
       "    <tr>\n",
       "      <th>1</th>\n",
       "      <td>2.0</td>\n",
       "      <td>1.5</td>\n",
       "      <td>8</td>\n",
       "    </tr>\n",
       "    <tr>\n",
       "      <th>2</th>\n",
       "      <td>1.5</td>\n",
       "      <td>1.5</td>\n",
       "      <td>9</td>\n",
       "    </tr>\n",
       "  </tbody>\n",
       "</table>\n",
       "</div>"
      ],
      "text/plain": [
       "     A    B  C\n",
       "0  1.0  4.0  7\n",
       "1  2.0  1.5  8\n",
       "2  1.5  1.5  9"
      ]
     },
     "execution_count": 98,
     "metadata": {},
     "output_type": "execute_result"
    }
   ],
   "source": [
    "df_10.fillna(value=df_10[\"A\"].mean())#filling na with mean"
   ]
  },
  {
   "cell_type": "code",
   "execution_count": 99,
   "metadata": {},
   "outputs": [
    {
     "data": {
      "text/html": [
       "<div>\n",
       "<style scoped>\n",
       "    .dataframe tbody tr th:only-of-type {\n",
       "        vertical-align: middle;\n",
       "    }\n",
       "\n",
       "    .dataframe tbody tr th {\n",
       "        vertical-align: top;\n",
       "    }\n",
       "\n",
       "    .dataframe thead th {\n",
       "        text-align: right;\n",
       "    }\n",
       "</style>\n",
       "<table border=\"1\" class=\"dataframe\">\n",
       "  <thead>\n",
       "    <tr style=\"text-align: right;\">\n",
       "      <th></th>\n",
       "      <th>A</th>\n",
       "      <th>B</th>\n",
       "      <th>C</th>\n",
       "    </tr>\n",
       "  </thead>\n",
       "  <tbody>\n",
       "    <tr>\n",
       "      <th>0</th>\n",
       "      <td>1.0</td>\n",
       "      <td>4.0</td>\n",
       "      <td>7</td>\n",
       "    </tr>\n",
       "    <tr>\n",
       "      <th>1</th>\n",
       "      <td>2.0</td>\n",
       "      <td>4.0</td>\n",
       "      <td>8</td>\n",
       "    </tr>\n",
       "    <tr>\n",
       "      <th>2</th>\n",
       "      <td>2.0</td>\n",
       "      <td>4.0</td>\n",
       "      <td>9</td>\n",
       "    </tr>\n",
       "  </tbody>\n",
       "</table>\n",
       "</div>"
      ],
      "text/plain": [
       "     A    B  C\n",
       "0  1.0  4.0  7\n",
       "1  2.0  4.0  8\n",
       "2  2.0  4.0  9"
      ]
     },
     "execution_count": 99,
     "metadata": {},
     "output_type": "execute_result"
    }
   ],
   "source": [
    "df_10.fillna(method = 'ffill') #fillna with previous vals"
   ]
  },
  {
   "cell_type": "markdown",
   "metadata": {},
   "source": [
    "Experimenting with data"
   ]
  },
  {
   "cell_type": "code",
   "execution_count": 104,
   "metadata": {},
   "outputs": [
    {
     "name": "stdout",
     "output_type": "stream",
     "text": [
      "Index(['Sale ID', 'Contact', 'Sex', 'Age', 'State', 'Product ID',\n",
      "       'Product Type', 'Sale Price', 'Profit', 'Lead', 'Month', 'Year'],\n",
      "      dtype='object')\n"
     ]
    },
    {
     "data": {
      "text/plain": [
       "139.97461538461545"
      ]
     },
     "execution_count": 104,
     "metadata": {},
     "output_type": "execute_result"
    }
   ],
   "source": [
    "print(df.columns)\n",
    "df[\"Profit\"].mean()"
   ]
  },
  {
   "cell_type": "code",
   "execution_count": 105,
   "metadata": {},
   "outputs": [
    {
     "data": {
      "text/plain": [
       "Product ID    Q526FA\n",
       "Profit        230.89\n",
       "dtype: object"
      ]
     },
     "execution_count": 105,
     "metadata": {},
     "output_type": "execute_result"
    }
   ],
   "source": [
    "df[[\"Product ID\",\"Profit\"]].max(axis = 0)"
   ]
  },
  {
   "cell_type": "code",
   "execution_count": 108,
   "metadata": {},
   "outputs": [
    {
     "data": {
      "text/plain": [
       "4"
      ]
     },
     "execution_count": 108,
     "metadata": {},
     "output_type": "execute_result"
    }
   ],
   "source": [
    "df[df[\"State\"]== \"WV\"][\"State\"].count()"
   ]
  },
  {
   "cell_type": "code",
   "execution_count": 119,
   "metadata": {},
   "outputs": [
    {
     "data": {
      "text/plain": [
       "14"
      ]
     },
     "execution_count": 119,
     "metadata": {},
     "output_type": "execute_result"
    }
   ],
   "source": [
    "len(df[df[\"Year\"] == 2019].index)"
   ]
  },
  {
   "cell_type": "code",
   "execution_count": 114,
   "metadata": {},
   "outputs": [
    {
     "data": {
      "text/plain": [
       "GA401IV      6\n",
       "I3593        5\n",
       "81TC00       5\n",
       "M01-F0024    5\n",
       "GT13-0024    4\n",
       "15M-ED       4\n",
       "MY2J2LL      4\n",
       "I3670        3\n",
       "Q526FA       3\n",
       "Name: Product ID, dtype: int64"
      ]
     },
     "execution_count": 114,
     "metadata": {},
     "output_type": "execute_result"
    }
   ],
   "source": [
    "df[\"Product ID\"].value_counts()"
   ]
  },
  {
   "cell_type": "code",
   "execution_count": 115,
   "metadata": {},
   "outputs": [
    {
     "data": {
      "text/plain": [
       "Series([], Name: Contact, dtype: object)"
      ]
     },
     "execution_count": 115,
     "metadata": {},
     "output_type": "execute_result"
    }
   ],
   "source": [
    "df[df[\"Product ID\"] == \"MO1-F0024\"][\"Contact\"]"
   ]
  },
  {
   "cell_type": "code",
   "execution_count": 116,
   "metadata": {},
   "outputs": [
    {
     "data": {
      "text/plain": [
       "10"
      ]
     },
     "execution_count": 116,
     "metadata": {},
     "output_type": "execute_result"
    }
   ],
   "source": [
    "df[(df[\"Lead\"] == \"Website\") & (df[\"Profit\"] > 120)][\"Lead\"].count()"
   ]
  },
  {
   "cell_type": "code",
   "execution_count": 118,
   "metadata": {},
   "outputs": [
    {
     "data": {
      "text/plain": [
       "False    35\n",
       "True      4\n",
       "Name: Profit, dtype: int64"
      ]
     },
     "execution_count": 118,
     "metadata": {},
     "output_type": "execute_result"
    }
   ],
   "source": [
    "df[\"Profit\"].apply(lambda cents : str(cents).split(\".\")[1] == \"89\").value_counts()"
   ]
  },
  {
   "cell_type": "markdown",
   "metadata": {},
   "source": [
    "Visualization"
   ]
  },
  {
   "cell_type": "code",
   "execution_count": 123,
   "metadata": {},
   "outputs": [],
   "source": [
    "import matplotlib.pyplot as plt\n",
    "%matplotlib inline"
   ]
  },
  {
   "cell_type": "code",
   "execution_count": 125,
   "metadata": {},
   "outputs": [
    {
     "data": {
      "image/png": "[encoded data removed]",
      "text/plain": [
       "<Figure size 432x288 with 1 Axes>"
      ]
     },
     "metadata": {
      "needs_background": "light"
     },
     "output_type": "display_data"
    }
   ],
   "source": [
    "dice = pd.DataFrame(np.random.randint(1,7,5000),columns=[\"Hist\"])\n",
    "\n",
    "dice[\"Odds\"] = dice[\"Hist\"] + np.random.randint(1,7,5000)\n",
    "ax = dice.plot.hist(bins = 12,alpha = 0.5)"
   ]
  },
  {
   "cell_type": "code",
   "execution_count": null,
   "metadata": {},
   "outputs": [],
   "source": []
  }
 ],
 "metadata": {
  "kernelspec": {
   "display_name": "Python 3",
   "language": "python",
   "name": "python3"
  },
  "language_info": {
   "codemirror_mode": {
    "name": "ipython",
    "version": 3
   },
   "file_extension": ".py",
   "mimetype": "text/x-python",
   "name": "python",
   "nbconvert_exporter": "python",
   "pygments_lexer": "ipython3",
   "version": "3.8.3"
  }
 },
 "nbformat": 4,
 "nbformat_minor": 4
}
